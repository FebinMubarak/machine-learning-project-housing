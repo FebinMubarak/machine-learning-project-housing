{
 "cells": [
  {
   "cell_type": "code",
   "execution_count": 2,
   "metadata": {},
   "outputs": [],
   "source": [
    "import pandas as pd\n",
    "import matplotlib.pyplot as plt\n",
    "%matplotlib inline\n",
    "import numpy as np\n",
    "import matplotlib\n",
    "matplotlib.rcParams[\"figure.figsize\"] = (20,10)"
   ]
  },
  {
   "cell_type": "code",
   "execution_count": 3,
   "metadata": {},
   "outputs": [
    {
     "data": {
      "text/html": [
       "<div>\n",
       "<style scoped>\n",
       "    .dataframe tbody tr th:only-of-type {\n",
       "        vertical-align: middle;\n",
       "    }\n",
       "\n",
       "    .dataframe tbody tr th {\n",
       "        vertical-align: top;\n",
       "    }\n",
       "\n",
       "    .dataframe thead th {\n",
       "        text-align: right;\n",
       "    }\n",
       "</style>\n",
       "<table border=\"1\" class=\"dataframe\">\n",
       "  <thead>\n",
       "    <tr style=\"text-align: right;\">\n",
       "      <th></th>\n",
       "      <th>area_type</th>\n",
       "      <th>availability</th>\n",
       "      <th>location</th>\n",
       "      <th>size</th>\n",
       "      <th>society</th>\n",
       "      <th>total_sqft</th>\n",
       "      <th>bath</th>\n",
       "      <th>balcony</th>\n",
       "      <th>price</th>\n",
       "    </tr>\n",
       "  </thead>\n",
       "  <tbody>\n",
       "    <tr>\n",
       "      <th>0</th>\n",
       "      <td>Super built-up  Area</td>\n",
       "      <td>19-Dec</td>\n",
       "      <td>Electronic City Phase II</td>\n",
       "      <td>2 BHK</td>\n",
       "      <td>Coomee</td>\n",
       "      <td>1056</td>\n",
       "      <td>2.0</td>\n",
       "      <td>1.0</td>\n",
       "      <td>39.07</td>\n",
       "    </tr>\n",
       "    <tr>\n",
       "      <th>1</th>\n",
       "      <td>Plot  Area</td>\n",
       "      <td>Ready To Move</td>\n",
       "      <td>Chikka Tirupathi</td>\n",
       "      <td>4 Bedroom</td>\n",
       "      <td>Theanmp</td>\n",
       "      <td>2600</td>\n",
       "      <td>5.0</td>\n",
       "      <td>3.0</td>\n",
       "      <td>120.00</td>\n",
       "    </tr>\n",
       "    <tr>\n",
       "      <th>2</th>\n",
       "      <td>Built-up  Area</td>\n",
       "      <td>Ready To Move</td>\n",
       "      <td>Uttarahalli</td>\n",
       "      <td>3 BHK</td>\n",
       "      <td>NaN</td>\n",
       "      <td>1440</td>\n",
       "      <td>2.0</td>\n",
       "      <td>3.0</td>\n",
       "      <td>62.00</td>\n",
       "    </tr>\n",
       "    <tr>\n",
       "      <th>3</th>\n",
       "      <td>Super built-up  Area</td>\n",
       "      <td>Ready To Move</td>\n",
       "      <td>Lingadheeranahalli</td>\n",
       "      <td>3 BHK</td>\n",
       "      <td>Soiewre</td>\n",
       "      <td>1521</td>\n",
       "      <td>3.0</td>\n",
       "      <td>1.0</td>\n",
       "      <td>95.00</td>\n",
       "    </tr>\n",
       "    <tr>\n",
       "      <th>4</th>\n",
       "      <td>Super built-up  Area</td>\n",
       "      <td>Ready To Move</td>\n",
       "      <td>Kothanur</td>\n",
       "      <td>2 BHK</td>\n",
       "      <td>NaN</td>\n",
       "      <td>1200</td>\n",
       "      <td>2.0</td>\n",
       "      <td>1.0</td>\n",
       "      <td>51.00</td>\n",
       "    </tr>\n",
       "  </tbody>\n",
       "</table>\n",
       "</div>"
      ],
      "text/plain": [
       "              area_type   availability                  location       size  \\\n",
       "0  Super built-up  Area         19-Dec  Electronic City Phase II      2 BHK   \n",
       "1            Plot  Area  Ready To Move          Chikka Tirupathi  4 Bedroom   \n",
       "2        Built-up  Area  Ready To Move               Uttarahalli      3 BHK   \n",
       "3  Super built-up  Area  Ready To Move        Lingadheeranahalli      3 BHK   \n",
       "4  Super built-up  Area  Ready To Move                  Kothanur      2 BHK   \n",
       "\n",
       "   society total_sqft  bath  balcony   price  \n",
       "0  Coomee        1056   2.0      1.0   39.07  \n",
       "1  Theanmp       2600   5.0      3.0  120.00  \n",
       "2      NaN       1440   2.0      3.0   62.00  \n",
       "3  Soiewre       1521   3.0      1.0   95.00  \n",
       "4      NaN       1200   2.0      1.0   51.00  "
      ]
     },
     "execution_count": 3,
     "metadata": {},
     "output_type": "execute_result"
    }
   ],
   "source": [
    "df1 = pd.read_csv(r\"c:\\\\data2\\\\4-01\\\\Bengaluru_House_Data.csv\")\n",
    "df1.head()"
   ]
  },
  {
   "cell_type": "code",
   "execution_count": 4,
   "metadata": {},
   "outputs": [
    {
     "data": {
      "text/html": [
       "<div>\n",
       "<style scoped>\n",
       "    .dataframe tbody tr th:only-of-type {\n",
       "        vertical-align: middle;\n",
       "    }\n",
       "\n",
       "    .dataframe tbody tr th {\n",
       "        vertical-align: top;\n",
       "    }\n",
       "\n",
       "    .dataframe thead th {\n",
       "        text-align: right;\n",
       "    }\n",
       "</style>\n",
       "<table border=\"1\" class=\"dataframe\">\n",
       "  <thead>\n",
       "    <tr style=\"text-align: right;\">\n",
       "      <th></th>\n",
       "      <th>location</th>\n",
       "      <th>size</th>\n",
       "      <th>total_sqft</th>\n",
       "      <th>bath</th>\n",
       "      <th>price</th>\n",
       "    </tr>\n",
       "  </thead>\n",
       "  <tbody>\n",
       "    <tr>\n",
       "      <th>0</th>\n",
       "      <td>Electronic City Phase II</td>\n",
       "      <td>2 BHK</td>\n",
       "      <td>1056</td>\n",
       "      <td>2.0</td>\n",
       "      <td>39.07</td>\n",
       "    </tr>\n",
       "    <tr>\n",
       "      <th>1</th>\n",
       "      <td>Chikka Tirupathi</td>\n",
       "      <td>4 Bedroom</td>\n",
       "      <td>2600</td>\n",
       "      <td>5.0</td>\n",
       "      <td>120.00</td>\n",
       "    </tr>\n",
       "    <tr>\n",
       "      <th>2</th>\n",
       "      <td>Uttarahalli</td>\n",
       "      <td>3 BHK</td>\n",
       "      <td>1440</td>\n",
       "      <td>2.0</td>\n",
       "      <td>62.00</td>\n",
       "    </tr>\n",
       "    <tr>\n",
       "      <th>3</th>\n",
       "      <td>Lingadheeranahalli</td>\n",
       "      <td>3 BHK</td>\n",
       "      <td>1521</td>\n",
       "      <td>3.0</td>\n",
       "      <td>95.00</td>\n",
       "    </tr>\n",
       "    <tr>\n",
       "      <th>4</th>\n",
       "      <td>Kothanur</td>\n",
       "      <td>2 BHK</td>\n",
       "      <td>1200</td>\n",
       "      <td>2.0</td>\n",
       "      <td>51.00</td>\n",
       "    </tr>\n",
       "  </tbody>\n",
       "</table>\n",
       "</div>"
      ],
      "text/plain": [
       "                   location       size total_sqft  bath   price\n",
       "0  Electronic City Phase II      2 BHK       1056   2.0   39.07\n",
       "1          Chikka Tirupathi  4 Bedroom       2600   5.0  120.00\n",
       "2               Uttarahalli      3 BHK       1440   2.0   62.00\n",
       "3        Lingadheeranahalli      3 BHK       1521   3.0   95.00\n",
       "4                  Kothanur      2 BHK       1200   2.0   51.00"
      ]
     },
     "execution_count": 4,
     "metadata": {},
     "output_type": "execute_result"
    }
   ],
   "source": [
    "df2 = df1.drop([\"area_type\",\"availability\",\"society\",\"balcony\"],axis=\"columns\")\n",
    "df2.head()"
   ]
  },
  {
   "cell_type": "code",
   "execution_count": 5,
   "metadata": {},
   "outputs": [
    {
     "data": {
      "text/plain": [
       "(13320, 5)"
      ]
     },
     "execution_count": 5,
     "metadata": {},
     "output_type": "execute_result"
    }
   ],
   "source": [
    "df2.shape"
   ]
  },
  {
   "cell_type": "code",
   "execution_count": 6,
   "metadata": {},
   "outputs": [
    {
     "data": {
      "text/plain": [
       "array(['1056', '2600', '1440', ..., '1133 - 1384', '774', '4689'],\n",
       "      dtype=object)"
      ]
     },
     "execution_count": 6,
     "metadata": {},
     "output_type": "execute_result"
    }
   ],
   "source": [
    "df2[\"total_sqft\"].unique()"
   ]
  },
  {
   "cell_type": "code",
   "execution_count": 7,
   "metadata": {},
   "outputs": [
    {
     "data": {
      "text/plain": [
       "array(['2 BHK', '4 Bedroom', '3 BHK', '4 BHK', '6 Bedroom', '3 Bedroom',\n",
       "       '1 BHK', '1 RK', '1 Bedroom', '8 Bedroom', '2 Bedroom',\n",
       "       '7 Bedroom', '5 BHK', '7 BHK', '6 BHK', '5 Bedroom', '11 BHK',\n",
       "       '9 BHK', nan, '9 Bedroom', '27 BHK', '10 Bedroom', '11 Bedroom',\n",
       "       '10 BHK', '19 BHK', '16 BHK', '43 Bedroom', '14 BHK', '8 BHK',\n",
       "       '12 Bedroom', '13 BHK', '18 Bedroom'], dtype=object)"
      ]
     },
     "execution_count": 7,
     "metadata": {},
     "output_type": "execute_result"
    }
   ],
   "source": [
    "df2[\"size\"].unique()"
   ]
  },
  {
   "cell_type": "code",
   "execution_count": 10,
   "metadata": {},
   "outputs": [
    {
     "data": {
      "text/plain": [
       "location      0\n",
       "size          0\n",
       "total_sqft    0\n",
       "bath          0\n",
       "price         0\n",
       "dtype: int64"
      ]
     },
     "execution_count": 10,
     "metadata": {},
     "output_type": "execute_result"
    }
   ],
   "source": [
    "df2.isnull().sum()\n",
    "df3 = df2.dropna()\n",
    "df3.isnull().sum()\n"
   ]
  },
  {
   "cell_type": "code",
   "execution_count": 8,
   "metadata": {},
   "outputs": [
    {
     "data": {
      "text/plain": [
       "(13246, 5)"
      ]
     },
     "execution_count": 8,
     "metadata": {},
     "output_type": "execute_result"
    }
   ],
   "source": [
    "df3.shape"
   ]
  },
  {
   "cell_type": "code",
   "execution_count": 11,
   "metadata": {},
   "outputs": [
    {
     "data": {
      "text/plain": [
       "array(['2 BHK', '4 Bedroom', '3 BHK', '4 BHK', '6 Bedroom', '3 Bedroom',\n",
       "       '1 BHK', '1 RK', '1 Bedroom', '8 Bedroom', '2 Bedroom',\n",
       "       '7 Bedroom', '5 BHK', '7 BHK', '6 BHK', '5 Bedroom', '11 BHK',\n",
       "       '9 BHK', '9 Bedroom', '27 BHK', '10 Bedroom', '11 Bedroom',\n",
       "       '10 BHK', '19 BHK', '16 BHK', '43 Bedroom', '14 BHK', '8 BHK',\n",
       "       '12 Bedroom', '13 BHK', '18 Bedroom'], dtype=object)"
      ]
     },
     "execution_count": 11,
     "metadata": {},
     "output_type": "execute_result"
    }
   ],
   "source": [
    "df3[\"size\"].unique()"
   ]
  },
  {
   "cell_type": "code",
   "execution_count": 13,
   "metadata": {},
   "outputs": [
    {
     "name": "stderr",
     "output_type": "stream",
     "text": [
      "<ipython-input-13-69fef848a26b>:1: SettingWithCopyWarning: \n",
      "A value is trying to be set on a copy of a slice from a DataFrame.\n",
      "Try using .loc[row_indexer,col_indexer] = value instead\n",
      "\n",
      "See the caveats in the documentation: https://pandas.pydata.org/pandas-docs/stable/user_guide/indexing.html#returning-a-view-versus-a-copy\n",
      "  df3[\"bhk\"] = df3[\"size\"].apply(lambda x: int(x.split(\" \")[0]))\n"
     ]
    }
   ],
   "source": [
    "df3[\"bhk\"] = df3[\"size\"].apply(lambda x: int(x.split(\" \")[0]))"
   ]
  },
  {
   "cell_type": "code",
   "execution_count": 14,
   "metadata": {},
   "outputs": [
    {
     "data": {
      "text/plain": [
       "count    13246.000000\n",
       "mean         2.801902\n",
       "std          1.295758\n",
       "min          1.000000\n",
       "25%          2.000000\n",
       "50%          3.000000\n",
       "75%          3.000000\n",
       "max         43.000000\n",
       "Name: bhk, dtype: float64"
      ]
     },
     "execution_count": 14,
     "metadata": {},
     "output_type": "execute_result"
    }
   ],
   "source": [
    "df3.bhk.describe()"
   ]
  },
  {
   "cell_type": "code",
   "execution_count": 15,
   "metadata": {},
   "outputs": [
    {
     "data": {
      "text/plain": [
       "array([ 2,  4,  3,  6,  1,  8,  7,  5, 11,  9, 27, 10, 19, 16, 43, 14, 12,\n",
       "       13, 18], dtype=int64)"
      ]
     },
     "execution_count": 15,
     "metadata": {},
     "output_type": "execute_result"
    }
   ],
   "source": [
    "df3[\"bhk\"].unique()"
   ]
  },
  {
   "cell_type": "code",
   "execution_count": 16,
   "metadata": {},
   "outputs": [
    {
     "data": {
      "text/plain": [
       "(13246, 6)"
      ]
     },
     "execution_count": 16,
     "metadata": {},
     "output_type": "execute_result"
    }
   ],
   "source": [
    "df3.shape"
   ]
  },
  {
   "cell_type": "code",
   "execution_count": 25,
   "metadata": {},
   "outputs": [
    {
     "data": {
      "text/plain": [
       "array(['1056', '2600', '1440', ..., '1133 - 1384', '774', '4689'],\n",
       "      dtype=object)"
      ]
     },
     "execution_count": 25,
     "metadata": {},
     "output_type": "execute_result"
    }
   ],
   "source": [
    "df3[\"total_sqft\"].unique()"
   ]
  },
  {
   "cell_type": "code",
   "execution_count": 33,
   "metadata": {},
   "outputs": [
    {
     "data": {
      "text/plain": [
       "location      Vajarahalli\n",
       "size                2 BHK\n",
       "total_sqft            945\n",
       "bath                    2\n",
       "price                  54\n",
       "bhk                     2\n",
       "Name: 127, dtype: object"
      ]
     },
     "execution_count": 33,
     "metadata": {},
     "output_type": "execute_result"
    }
   ],
   "source": [
    "df3.iloc[125]"
   ]
  },
  {
   "cell_type": "code",
   "execution_count": 34,
   "metadata": {},
   "outputs": [],
   "source": [
    "def is_float(x):\n",
    "    try:\n",
    "        float(x)\n",
    "    except:\n",
    "        return False\n",
    "    else:\n",
    "        return True\n",
    "            "
   ]
  },
  {
   "cell_type": "code",
   "execution_count": 43,
   "metadata": {},
   "outputs": [
    {
     "data": {
      "text/html": [
       "<div>\n",
       "<style scoped>\n",
       "    .dataframe tbody tr th:only-of-type {\n",
       "        vertical-align: middle;\n",
       "    }\n",
       "\n",
       "    .dataframe tbody tr th {\n",
       "        vertical-align: top;\n",
       "    }\n",
       "\n",
       "    .dataframe thead th {\n",
       "        text-align: right;\n",
       "    }\n",
       "</style>\n",
       "<table border=\"1\" class=\"dataframe\">\n",
       "  <thead>\n",
       "    <tr style=\"text-align: right;\">\n",
       "      <th></th>\n",
       "      <th>location</th>\n",
       "      <th>size</th>\n",
       "      <th>total_sqft</th>\n",
       "      <th>bath</th>\n",
       "      <th>price</th>\n",
       "      <th>bhk</th>\n",
       "    </tr>\n",
       "  </thead>\n",
       "  <tbody>\n",
       "    <tr>\n",
       "      <th>30</th>\n",
       "      <td>Yelahanka</td>\n",
       "      <td>4 BHK</td>\n",
       "      <td>2100 - 2850</td>\n",
       "      <td>4.0</td>\n",
       "      <td>186.000</td>\n",
       "      <td>4</td>\n",
       "    </tr>\n",
       "    <tr>\n",
       "      <th>122</th>\n",
       "      <td>Hebbal</td>\n",
       "      <td>4 BHK</td>\n",
       "      <td>3067 - 8156</td>\n",
       "      <td>4.0</td>\n",
       "      <td>477.000</td>\n",
       "      <td>4</td>\n",
       "    </tr>\n",
       "    <tr>\n",
       "      <th>137</th>\n",
       "      <td>8th Phase JP Nagar</td>\n",
       "      <td>2 BHK</td>\n",
       "      <td>1042 - 1105</td>\n",
       "      <td>2.0</td>\n",
       "      <td>54.005</td>\n",
       "      <td>2</td>\n",
       "    </tr>\n",
       "    <tr>\n",
       "      <th>165</th>\n",
       "      <td>Sarjapur</td>\n",
       "      <td>2 BHK</td>\n",
       "      <td>1145 - 1340</td>\n",
       "      <td>2.0</td>\n",
       "      <td>43.490</td>\n",
       "      <td>2</td>\n",
       "    </tr>\n",
       "    <tr>\n",
       "      <th>188</th>\n",
       "      <td>KR Puram</td>\n",
       "      <td>2 BHK</td>\n",
       "      <td>1015 - 1540</td>\n",
       "      <td>2.0</td>\n",
       "      <td>56.800</td>\n",
       "      <td>2</td>\n",
       "    </tr>\n",
       "  </tbody>\n",
       "</table>\n",
       "</div>"
      ],
      "text/plain": [
       "               location   size   total_sqft  bath    price  bhk\n",
       "30            Yelahanka  4 BHK  2100 - 2850   4.0  186.000    4\n",
       "122              Hebbal  4 BHK  3067 - 8156   4.0  477.000    4\n",
       "137  8th Phase JP Nagar  2 BHK  1042 - 1105   2.0   54.005    2\n",
       "165            Sarjapur  2 BHK  1145 - 1340   2.0   43.490    2\n",
       "188            KR Puram  2 BHK  1015 - 1540   2.0   56.800    2"
      ]
     },
     "execution_count": 43,
     "metadata": {},
     "output_type": "execute_result"
    }
   ],
   "source": [
    "df3[~df3[\"total_sqft\"].apply(is_float)].head()"
   ]
  },
  {
   "cell_type": "code",
   "execution_count": 44,
   "metadata": {},
   "outputs": [],
   "source": [
    "def convert_range_to_num(x):\n",
    "    tokens = x.split(\"-\")\n",
    "    if len(tokens)==2:\n",
    "        return(float(tokens[0])+float(tokens[1]))/2\n",
    "    try:\n",
    "        return float(x)\n",
    "    except:\n",
    "        return None\n",
    "        "
   ]
  },
  {
   "cell_type": "code",
   "execution_count": 45,
   "metadata": {},
   "outputs": [
    {
     "data": {
      "text/html": [
       "<div>\n",
       "<style scoped>\n",
       "    .dataframe tbody tr th:only-of-type {\n",
       "        vertical-align: middle;\n",
       "    }\n",
       "\n",
       "    .dataframe tbody tr th {\n",
       "        vertical-align: top;\n",
       "    }\n",
       "\n",
       "    .dataframe thead th {\n",
       "        text-align: right;\n",
       "    }\n",
       "</style>\n",
       "<table border=\"1\" class=\"dataframe\">\n",
       "  <thead>\n",
       "    <tr style=\"text-align: right;\">\n",
       "      <th></th>\n",
       "      <th>location</th>\n",
       "      <th>size</th>\n",
       "      <th>total_sqft</th>\n",
       "      <th>bath</th>\n",
       "      <th>price</th>\n",
       "      <th>bhk</th>\n",
       "    </tr>\n",
       "  </thead>\n",
       "  <tbody>\n",
       "    <tr>\n",
       "      <th>0</th>\n",
       "      <td>Electronic City Phase II</td>\n",
       "      <td>2 BHK</td>\n",
       "      <td>1056.0</td>\n",
       "      <td>2.0</td>\n",
       "      <td>39.07</td>\n",
       "      <td>2</td>\n",
       "    </tr>\n",
       "    <tr>\n",
       "      <th>1</th>\n",
       "      <td>Chikka Tirupathi</td>\n",
       "      <td>4 Bedroom</td>\n",
       "      <td>2600.0</td>\n",
       "      <td>5.0</td>\n",
       "      <td>120.00</td>\n",
       "      <td>4</td>\n",
       "    </tr>\n",
       "    <tr>\n",
       "      <th>2</th>\n",
       "      <td>Uttarahalli</td>\n",
       "      <td>3 BHK</td>\n",
       "      <td>1440.0</td>\n",
       "      <td>2.0</td>\n",
       "      <td>62.00</td>\n",
       "      <td>3</td>\n",
       "    </tr>\n",
       "    <tr>\n",
       "      <th>3</th>\n",
       "      <td>Lingadheeranahalli</td>\n",
       "      <td>3 BHK</td>\n",
       "      <td>1521.0</td>\n",
       "      <td>3.0</td>\n",
       "      <td>95.00</td>\n",
       "      <td>3</td>\n",
       "    </tr>\n",
       "    <tr>\n",
       "      <th>4</th>\n",
       "      <td>Kothanur</td>\n",
       "      <td>2 BHK</td>\n",
       "      <td>1200.0</td>\n",
       "      <td>2.0</td>\n",
       "      <td>51.00</td>\n",
       "      <td>2</td>\n",
       "    </tr>\n",
       "  </tbody>\n",
       "</table>\n",
       "</div>"
      ],
      "text/plain": [
       "                   location       size  total_sqft  bath   price  bhk\n",
       "0  Electronic City Phase II      2 BHK      1056.0   2.0   39.07    2\n",
       "1          Chikka Tirupathi  4 Bedroom      2600.0   5.0  120.00    4\n",
       "2               Uttarahalli      3 BHK      1440.0   2.0   62.00    3\n",
       "3        Lingadheeranahalli      3 BHK      1521.0   3.0   95.00    3\n",
       "4                  Kothanur      2 BHK      1200.0   2.0   51.00    2"
      ]
     },
     "execution_count": 45,
     "metadata": {},
     "output_type": "execute_result"
    }
   ],
   "source": [
    "df4 = df3.copy()\n",
    "df4.total_sqft = df4.total_sqft.apply(convert_range_to_num)\n",
    "df4 = df4[df4.total_sqft.notnull()]\n",
    "df4.head()"
   ]
  },
  {
   "cell_type": "code",
   "execution_count": 49,
   "metadata": {},
   "outputs": [
    {
     "data": {
      "text/plain": [
       "location      Hebbal\n",
       "size           4 BHK\n",
       "total_sqft    5611.5\n",
       "bath               4\n",
       "price            477\n",
       "bhk                4\n",
       "Name: 122, dtype: object"
      ]
     },
     "execution_count": 49,
     "metadata": {},
     "output_type": "execute_result"
    }
   ],
   "source": [
    "df4.loc[122]"
   ]
  },
  {
   "cell_type": "code",
   "execution_count": 50,
   "metadata": {},
   "outputs": [
    {
     "data": {
      "text/plain": [
       "(13200, 6)"
      ]
     },
     "execution_count": 50,
     "metadata": {},
     "output_type": "execute_result"
    }
   ],
   "source": [
    "df4.shape"
   ]
  },
  {
   "cell_type": "code",
   "execution_count": 51,
   "metadata": {},
   "outputs": [
    {
     "data": {
      "text/plain": [
       "5611.5"
      ]
     },
     "execution_count": 51,
     "metadata": {},
     "output_type": "execute_result"
    }
   ],
   "source": [
    "(3067+8156)/2"
   ]
  },
  {
   "cell_type": "code",
   "execution_count": 52,
   "metadata": {},
   "outputs": [
    {
     "data": {
      "text/html": [
       "<div>\n",
       "<style scoped>\n",
       "    .dataframe tbody tr th:only-of-type {\n",
       "        vertical-align: middle;\n",
       "    }\n",
       "\n",
       "    .dataframe tbody tr th {\n",
       "        vertical-align: top;\n",
       "    }\n",
       "\n",
       "    .dataframe thead th {\n",
       "        text-align: right;\n",
       "    }\n",
       "</style>\n",
       "<table border=\"1\" class=\"dataframe\">\n",
       "  <thead>\n",
       "    <tr style=\"text-align: right;\">\n",
       "      <th></th>\n",
       "      <th>location</th>\n",
       "      <th>size</th>\n",
       "      <th>total_sqft</th>\n",
       "      <th>bath</th>\n",
       "      <th>price</th>\n",
       "      <th>bhk</th>\n",
       "    </tr>\n",
       "  </thead>\n",
       "  <tbody>\n",
       "    <tr>\n",
       "      <th>0</th>\n",
       "      <td>Electronic City Phase II</td>\n",
       "      <td>2 BHK</td>\n",
       "      <td>1056.0</td>\n",
       "      <td>2.0</td>\n",
       "      <td>39.07</td>\n",
       "      <td>2</td>\n",
       "    </tr>\n",
       "    <tr>\n",
       "      <th>1</th>\n",
       "      <td>Chikka Tirupathi</td>\n",
       "      <td>4 Bedroom</td>\n",
       "      <td>2600.0</td>\n",
       "      <td>5.0</td>\n",
       "      <td>120.00</td>\n",
       "      <td>4</td>\n",
       "    </tr>\n",
       "    <tr>\n",
       "      <th>2</th>\n",
       "      <td>Uttarahalli</td>\n",
       "      <td>3 BHK</td>\n",
       "      <td>1440.0</td>\n",
       "      <td>2.0</td>\n",
       "      <td>62.00</td>\n",
       "      <td>3</td>\n",
       "    </tr>\n",
       "    <tr>\n",
       "      <th>3</th>\n",
       "      <td>Lingadheeranahalli</td>\n",
       "      <td>3 BHK</td>\n",
       "      <td>1521.0</td>\n",
       "      <td>3.0</td>\n",
       "      <td>95.00</td>\n",
       "      <td>3</td>\n",
       "    </tr>\n",
       "    <tr>\n",
       "      <th>4</th>\n",
       "      <td>Kothanur</td>\n",
       "      <td>2 BHK</td>\n",
       "      <td>1200.0</td>\n",
       "      <td>2.0</td>\n",
       "      <td>51.00</td>\n",
       "      <td>2</td>\n",
       "    </tr>\n",
       "  </tbody>\n",
       "</table>\n",
       "</div>"
      ],
      "text/plain": [
       "                   location       size  total_sqft  bath   price  bhk\n",
       "0  Electronic City Phase II      2 BHK      1056.0   2.0   39.07    2\n",
       "1          Chikka Tirupathi  4 Bedroom      2600.0   5.0  120.00    4\n",
       "2               Uttarahalli      3 BHK      1440.0   2.0   62.00    3\n",
       "3        Lingadheeranahalli      3 BHK      1521.0   3.0   95.00    3\n",
       "4                  Kothanur      2 BHK      1200.0   2.0   51.00    2"
      ]
     },
     "execution_count": 52,
     "metadata": {},
     "output_type": "execute_result"
    }
   ],
   "source": [
    "df5 = df4.copy()\n",
    "df5.head()"
   ]
  },
  {
   "cell_type": "code",
   "execution_count": 53,
   "metadata": {},
   "outputs": [
    {
     "data": {
      "text/html": [
       "<div>\n",
       "<style scoped>\n",
       "    .dataframe tbody tr th:only-of-type {\n",
       "        vertical-align: middle;\n",
       "    }\n",
       "\n",
       "    .dataframe tbody tr th {\n",
       "        vertical-align: top;\n",
       "    }\n",
       "\n",
       "    .dataframe thead th {\n",
       "        text-align: right;\n",
       "    }\n",
       "</style>\n",
       "<table border=\"1\" class=\"dataframe\">\n",
       "  <thead>\n",
       "    <tr style=\"text-align: right;\">\n",
       "      <th></th>\n",
       "      <th>location</th>\n",
       "      <th>size</th>\n",
       "      <th>total_sqft</th>\n",
       "      <th>bath</th>\n",
       "      <th>price</th>\n",
       "      <th>bhk</th>\n",
       "      <th>price_per_sqft</th>\n",
       "    </tr>\n",
       "  </thead>\n",
       "  <tbody>\n",
       "    <tr>\n",
       "      <th>0</th>\n",
       "      <td>Electronic City Phase II</td>\n",
       "      <td>2 BHK</td>\n",
       "      <td>1056.0</td>\n",
       "      <td>2.0</td>\n",
       "      <td>39.07</td>\n",
       "      <td>2</td>\n",
       "      <td>3699.810606</td>\n",
       "    </tr>\n",
       "    <tr>\n",
       "      <th>1</th>\n",
       "      <td>Chikka Tirupathi</td>\n",
       "      <td>4 Bedroom</td>\n",
       "      <td>2600.0</td>\n",
       "      <td>5.0</td>\n",
       "      <td>120.00</td>\n",
       "      <td>4</td>\n",
       "      <td>4615.384615</td>\n",
       "    </tr>\n",
       "    <tr>\n",
       "      <th>2</th>\n",
       "      <td>Uttarahalli</td>\n",
       "      <td>3 BHK</td>\n",
       "      <td>1440.0</td>\n",
       "      <td>2.0</td>\n",
       "      <td>62.00</td>\n",
       "      <td>3</td>\n",
       "      <td>4305.555556</td>\n",
       "    </tr>\n",
       "    <tr>\n",
       "      <th>3</th>\n",
       "      <td>Lingadheeranahalli</td>\n",
       "      <td>3 BHK</td>\n",
       "      <td>1521.0</td>\n",
       "      <td>3.0</td>\n",
       "      <td>95.00</td>\n",
       "      <td>3</td>\n",
       "      <td>6245.890861</td>\n",
       "    </tr>\n",
       "    <tr>\n",
       "      <th>4</th>\n",
       "      <td>Kothanur</td>\n",
       "      <td>2 BHK</td>\n",
       "      <td>1200.0</td>\n",
       "      <td>2.0</td>\n",
       "      <td>51.00</td>\n",
       "      <td>2</td>\n",
       "      <td>4250.000000</td>\n",
       "    </tr>\n",
       "  </tbody>\n",
       "</table>\n",
       "</div>"
      ],
      "text/plain": [
       "                   location       size  total_sqft  bath   price  bhk  \\\n",
       "0  Electronic City Phase II      2 BHK      1056.0   2.0   39.07    2   \n",
       "1          Chikka Tirupathi  4 Bedroom      2600.0   5.0  120.00    4   \n",
       "2               Uttarahalli      3 BHK      1440.0   2.0   62.00    3   \n",
       "3        Lingadheeranahalli      3 BHK      1521.0   3.0   95.00    3   \n",
       "4                  Kothanur      2 BHK      1200.0   2.0   51.00    2   \n",
       "\n",
       "   price_per_sqft  \n",
       "0     3699.810606  \n",
       "1     4615.384615  \n",
       "2     4305.555556  \n",
       "3     6245.890861  \n",
       "4     4250.000000  "
      ]
     },
     "execution_count": 53,
     "metadata": {},
     "output_type": "execute_result"
    }
   ],
   "source": [
    "df5[\"price_per_sqft\"] = df5[\"price\"]*100000/df5[\"total_sqft\"]\n",
    "df5.head()"
   ]
  },
  {
   "cell_type": "code",
   "execution_count": 54,
   "metadata": {},
   "outputs": [
    {
     "data": {
      "text/plain": [
       "1298"
      ]
     },
     "execution_count": 54,
     "metadata": {},
     "output_type": "execute_result"
    }
   ],
   "source": [
    "len(df5[\"location\"].unique())"
   ]
  },
  {
   "cell_type": "code",
   "execution_count": 55,
   "metadata": {},
   "outputs": [
    {
     "data": {
      "text/plain": [
       "Whitefield                        533\n",
       "Sarjapur  Road                    392\n",
       "Electronic City                   304\n",
       "Kanakpura Road                    264\n",
       "Thanisandra                       235\n",
       "                                 ... \n",
       "Chikka Gowdanapalya.                1\n",
       "Doddanakunte                        1\n",
       "Duvasapalya                         1\n",
       "1st Stage Radha Krishna Layout      1\n",
       "N R Layout                          1\n",
       "Name: location, Length: 1287, dtype: int64"
      ]
     },
     "execution_count": 55,
     "metadata": {},
     "output_type": "execute_result"
    }
   ],
   "source": [
    "df5.location = df5[\"location\"].apply(lambda x: x.strip())\n",
    "location_stats = df5[\"location\"].value_counts(ascending=False)\n",
    "location_stats"
   ]
  },
  {
   "cell_type": "code",
   "execution_count": 27,
   "metadata": {},
   "outputs": [
    {
     "data": {
      "text/plain": [
       "1287"
      ]
     },
     "execution_count": 27,
     "metadata": {},
     "output_type": "execute_result"
    }
   ],
   "source": [
    "len(location_stats)"
   ]
  },
  {
   "cell_type": "code",
   "execution_count": 28,
   "metadata": {},
   "outputs": [
    {
     "data": {
      "text/plain": [
       "240"
      ]
     },
     "execution_count": 28,
     "metadata": {},
     "output_type": "execute_result"
    }
   ],
   "source": [
    "len(location_stats[location_stats>10])"
   ]
  },
  {
   "cell_type": "code",
   "execution_count": 29,
   "metadata": {},
   "outputs": [
    {
     "data": {
      "text/plain": [
       "1047"
      ]
     },
     "execution_count": 29,
     "metadata": {},
     "output_type": "execute_result"
    }
   ],
   "source": [
    "len(location_stats[location_stats<=10])"
   ]
  },
  {
   "cell_type": "code",
   "execution_count": 57,
   "metadata": {},
   "outputs": [
    {
     "data": {
      "text/plain": [
       "Kalkere                           10\n",
       "1st Block Koramangala             10\n",
       "Nagadevanahalli                   10\n",
       "Sadashiva Nagar                   10\n",
       "Nagappa Reddy Layout              10\n",
       "                                  ..\n",
       "Chikka Gowdanapalya.               1\n",
       "Doddanakunte                       1\n",
       "Duvasapalya                        1\n",
       "1st Stage Radha Krishna Layout     1\n",
       "N R Layout                         1\n",
       "Name: location, Length: 1047, dtype: int64"
      ]
     },
     "execution_count": 57,
     "metadata": {},
     "output_type": "execute_result"
    }
   ],
   "source": [
    "location_stats_less_than_10 = location_stats[location_stats<=10]\n",
    "location_stats_less_than_10\n"
   ]
  },
  {
   "cell_type": "code",
   "execution_count": 59,
   "metadata": {},
   "outputs": [
    {
     "data": {
      "text/plain": [
       "241"
      ]
     },
     "execution_count": 59,
     "metadata": {},
     "output_type": "execute_result"
    }
   ],
   "source": [
    "df5.location = df5.location.apply(lambda x: \"other\" if x in location_stats_less_than_10 else x)\n",
    "len(df5.location.unique())\n"
   ]
  },
  {
   "cell_type": "code",
   "execution_count": 32,
   "metadata": {},
   "outputs": [
    {
     "data": {
      "text/html": [
       "<div>\n",
       "<style scoped>\n",
       "    .dataframe tbody tr th:only-of-type {\n",
       "        vertical-align: middle;\n",
       "    }\n",
       "\n",
       "    .dataframe tbody tr th {\n",
       "        vertical-align: top;\n",
       "    }\n",
       "\n",
       "    .dataframe thead th {\n",
       "        text-align: right;\n",
       "    }\n",
       "</style>\n",
       "<table border=\"1\" class=\"dataframe\">\n",
       "  <thead>\n",
       "    <tr style=\"text-align: right;\">\n",
       "      <th></th>\n",
       "      <th>location</th>\n",
       "      <th>size</th>\n",
       "      <th>total_sqft</th>\n",
       "      <th>bath</th>\n",
       "      <th>price</th>\n",
       "      <th>bhk</th>\n",
       "      <th>price_per_sqft</th>\n",
       "    </tr>\n",
       "  </thead>\n",
       "  <tbody>\n",
       "    <tr>\n",
       "      <th>0</th>\n",
       "      <td>Electronic City Phase II</td>\n",
       "      <td>2 BHK</td>\n",
       "      <td>1056.0</td>\n",
       "      <td>2.0</td>\n",
       "      <td>39.07</td>\n",
       "      <td>2</td>\n",
       "      <td>3699.810606</td>\n",
       "    </tr>\n",
       "    <tr>\n",
       "      <th>1</th>\n",
       "      <td>Chikka Tirupathi</td>\n",
       "      <td>4 Bedroom</td>\n",
       "      <td>2600.0</td>\n",
       "      <td>5.0</td>\n",
       "      <td>120.00</td>\n",
       "      <td>4</td>\n",
       "      <td>4615.384615</td>\n",
       "    </tr>\n",
       "    <tr>\n",
       "      <th>2</th>\n",
       "      <td>Uttarahalli</td>\n",
       "      <td>3 BHK</td>\n",
       "      <td>1440.0</td>\n",
       "      <td>2.0</td>\n",
       "      <td>62.00</td>\n",
       "      <td>3</td>\n",
       "      <td>4305.555556</td>\n",
       "    </tr>\n",
       "    <tr>\n",
       "      <th>3</th>\n",
       "      <td>Lingadheeranahalli</td>\n",
       "      <td>3 BHK</td>\n",
       "      <td>1521.0</td>\n",
       "      <td>3.0</td>\n",
       "      <td>95.00</td>\n",
       "      <td>3</td>\n",
       "      <td>6245.890861</td>\n",
       "    </tr>\n",
       "    <tr>\n",
       "      <th>4</th>\n",
       "      <td>Kothanur</td>\n",
       "      <td>2 BHK</td>\n",
       "      <td>1200.0</td>\n",
       "      <td>2.0</td>\n",
       "      <td>51.00</td>\n",
       "      <td>2</td>\n",
       "      <td>4250.000000</td>\n",
       "    </tr>\n",
       "    <tr>\n",
       "      <th>...</th>\n",
       "      <td>...</td>\n",
       "      <td>...</td>\n",
       "      <td>...</td>\n",
       "      <td>...</td>\n",
       "      <td>...</td>\n",
       "      <td>...</td>\n",
       "      <td>...</td>\n",
       "    </tr>\n",
       "    <tr>\n",
       "      <th>13315</th>\n",
       "      <td>Whitefield</td>\n",
       "      <td>5 Bedroom</td>\n",
       "      <td>3453.0</td>\n",
       "      <td>4.0</td>\n",
       "      <td>231.00</td>\n",
       "      <td>5</td>\n",
       "      <td>6689.834926</td>\n",
       "    </tr>\n",
       "    <tr>\n",
       "      <th>13316</th>\n",
       "      <td>other</td>\n",
       "      <td>4 BHK</td>\n",
       "      <td>3600.0</td>\n",
       "      <td>5.0</td>\n",
       "      <td>400.00</td>\n",
       "      <td>4</td>\n",
       "      <td>11111.111111</td>\n",
       "    </tr>\n",
       "    <tr>\n",
       "      <th>13317</th>\n",
       "      <td>Raja Rajeshwari Nagar</td>\n",
       "      <td>2 BHK</td>\n",
       "      <td>1141.0</td>\n",
       "      <td>2.0</td>\n",
       "      <td>60.00</td>\n",
       "      <td>2</td>\n",
       "      <td>5258.545136</td>\n",
       "    </tr>\n",
       "    <tr>\n",
       "      <th>13318</th>\n",
       "      <td>Padmanabhanagar</td>\n",
       "      <td>4 BHK</td>\n",
       "      <td>4689.0</td>\n",
       "      <td>4.0</td>\n",
       "      <td>488.00</td>\n",
       "      <td>4</td>\n",
       "      <td>10407.336319</td>\n",
       "    </tr>\n",
       "    <tr>\n",
       "      <th>13319</th>\n",
       "      <td>Doddathoguru</td>\n",
       "      <td>1 BHK</td>\n",
       "      <td>550.0</td>\n",
       "      <td>1.0</td>\n",
       "      <td>17.00</td>\n",
       "      <td>1</td>\n",
       "      <td>3090.909091</td>\n",
       "    </tr>\n",
       "  </tbody>\n",
       "</table>\n",
       "<p>13200 rows × 7 columns</p>\n",
       "</div>"
      ],
      "text/plain": [
       "                       location       size  total_sqft  bath   price  bhk  \\\n",
       "0      Electronic City Phase II      2 BHK      1056.0   2.0   39.07    2   \n",
       "1              Chikka Tirupathi  4 Bedroom      2600.0   5.0  120.00    4   \n",
       "2                   Uttarahalli      3 BHK      1440.0   2.0   62.00    3   \n",
       "3            Lingadheeranahalli      3 BHK      1521.0   3.0   95.00    3   \n",
       "4                      Kothanur      2 BHK      1200.0   2.0   51.00    2   \n",
       "...                         ...        ...         ...   ...     ...  ...   \n",
       "13315                Whitefield  5 Bedroom      3453.0   4.0  231.00    5   \n",
       "13316                     other      4 BHK      3600.0   5.0  400.00    4   \n",
       "13317     Raja Rajeshwari Nagar      2 BHK      1141.0   2.0   60.00    2   \n",
       "13318           Padmanabhanagar      4 BHK      4689.0   4.0  488.00    4   \n",
       "13319              Doddathoguru      1 BHK       550.0   1.0   17.00    1   \n",
       "\n",
       "       price_per_sqft  \n",
       "0         3699.810606  \n",
       "1         4615.384615  \n",
       "2         4305.555556  \n",
       "3         6245.890861  \n",
       "4         4250.000000  \n",
       "...               ...  \n",
       "13315     6689.834926  \n",
       "13316    11111.111111  \n",
       "13317     5258.545136  \n",
       "13318    10407.336319  \n",
       "13319     3090.909091  \n",
       "\n",
       "[13200 rows x 7 columns]"
      ]
     },
     "execution_count": 32,
     "metadata": {},
     "output_type": "execute_result"
    }
   ],
   "source": [
    "df5"
   ]
  },
  {
   "cell_type": "code",
   "execution_count": 60,
   "metadata": {},
   "outputs": [
    {
     "data": {
      "text/plain": [
       "array(['Electronic City Phase II', 'Chikka Tirupathi', 'Uttarahalli',\n",
       "       'Lingadheeranahalli', 'Kothanur', 'Whitefield', 'Old Airport Road',\n",
       "       'Rajaji Nagar', 'Marathahalli', 'other', '7th Phase JP Nagar',\n",
       "       'Gottigere', 'Sarjapur', 'Mysore Road', 'Bisuvanahalli',\n",
       "       'Raja Rajeshwari Nagar', 'Kengeri', 'Binny Pete', 'Thanisandra',\n",
       "       'Bellandur', 'Electronic City', 'Ramagondanahalli', 'Yelahanka',\n",
       "       'Hebbal', 'Kasturi Nagar', 'Kanakpura Road',\n",
       "       'Electronics City Phase 1', 'Kundalahalli', 'Chikkalasandra',\n",
       "       'Murugeshpalya', 'Sarjapur  Road', 'HSR Layout', 'Doddathoguru',\n",
       "       'KR Puram', 'Bhoganhalli', 'Lakshminarayana Pura', 'Begur Road',\n",
       "       'Varthur', 'Bommanahalli', 'Gunjur', 'Devarachikkanahalli',\n",
       "       'Hegde Nagar', 'Haralur Road', 'Hennur Road', 'Kothannur',\n",
       "       'Kalena Agrahara', 'Kaval Byrasandra', 'ISRO Layout',\n",
       "       'Garudachar Palya', 'EPIP Zone', 'Dasanapura', 'Kasavanhalli',\n",
       "       'Sanjay nagar', 'Domlur', 'Sarjapura - Attibele Road',\n",
       "       'Yeshwanthpur', 'Chandapura', 'Nagarbhavi', 'Devanahalli',\n",
       "       'Ramamurthy Nagar', 'Malleshwaram', 'Akshaya Nagar', 'Shampura',\n",
       "       'Kadugodi', 'LB Shastri Nagar', 'Hormavu', 'Vishwapriya Layout',\n",
       "       'Kudlu Gate', '8th Phase JP Nagar', 'Bommasandra Industrial Area',\n",
       "       'Anandapura', 'Vishveshwarya Layout', 'Kengeri Satellite Town',\n",
       "       'Kannamangala', 'Hulimavu', 'Mahalakshmi Layout', 'Hosa Road',\n",
       "       'Attibele', 'CV Raman Nagar', 'Kumaraswami Layout', 'Nagavara',\n",
       "       'Hebbal Kempapura', 'Vijayanagar', 'Pattandur Agrahara',\n",
       "       'Nagasandra', 'Kogilu', 'Panathur', 'Padmanabhanagar',\n",
       "       '1st Block Jayanagar', 'Kammasandra', 'Dasarahalli', 'Magadi Road',\n",
       "       'Koramangala', 'Dommasandra', 'Budigere', 'Kalyan nagar',\n",
       "       'OMBR Layout', 'Horamavu Agara', 'Ambedkar Nagar',\n",
       "       'Talaghattapura', 'Balagere', 'Jigani', 'Gollarapalya Hosahalli',\n",
       "       'Old Madras Road', 'Kaggadasapura', '9th Phase JP Nagar', 'Jakkur',\n",
       "       'TC Palaya', 'Giri Nagar', 'Singasandra', 'AECS Layout',\n",
       "       'Mallasandra', 'Begur', 'JP Nagar', 'Malleshpalya', 'Munnekollal',\n",
       "       'Kaggalipura', '6th Phase JP Nagar', 'Ulsoor', 'Thigalarapalya',\n",
       "       'Somasundara Palya', 'Basaveshwara Nagar', 'Bommasandra',\n",
       "       'Ardendale', 'Harlur', 'Kodihalli', 'Narayanapura',\n",
       "       'Bannerghatta Road', 'Hennur', '5th Phase JP Nagar', 'Kodigehaali',\n",
       "       'Billekahalli', 'Jalahalli', 'Mahadevpura', 'Anekal', 'Sompura',\n",
       "       'Dodda Nekkundi', 'Hosur Road', 'Battarahalli', 'Sultan Palaya',\n",
       "       'Ambalipura', 'Hoodi', 'Brookefield', 'Yelenahalli', 'Vittasandra',\n",
       "       '2nd Stage Nagarbhavi', 'Vidyaranyapura', 'Amruthahalli',\n",
       "       'Kodigehalli', 'Subramanyapura', 'Basavangudi', 'Kenchenahalli',\n",
       "       'Banjara Layout', 'Kereguddadahalli', 'Kambipura',\n",
       "       'Banashankari Stage III', 'Sector 7 HSR Layout', 'Rajiv Nagar',\n",
       "       'Arekere', 'Mico Layout', 'Kammanahalli', 'Banashankari',\n",
       "       'Chikkabanavar', 'HRBR Layout', 'Nehru Nagar', 'Kanakapura',\n",
       "       'Konanakunte', 'Margondanahalli', 'R.T. Nagar', 'Tumkur Road',\n",
       "       'Vasanthapura', 'GM Palaya', 'Jalahalli East', 'Hosakerehalli',\n",
       "       'Indira Nagar', 'Kodichikkanahalli', 'Varthur Road', 'Anjanapura',\n",
       "       'Abbigere', 'Tindlu', 'Gubbalala', 'Parappana Agrahara',\n",
       "       'Cunningham Road', 'Kudlu', 'Banashankari Stage VI', 'Cox Town',\n",
       "       'Kathriguppe', 'HBR Layout', 'Yelahanka New Town',\n",
       "       'Sahakara Nagar', 'Rachenahalli', 'Yelachenahalli',\n",
       "       'Green Glen Layout', 'Thubarahalli', 'Horamavu Banaswadi',\n",
       "       '1st Phase JP Nagar', 'NGR Layout', 'Seegehalli', 'BEML Layout',\n",
       "       'NRI Layout', 'ITPL', 'Babusapalaya', 'Iblur Village',\n",
       "       'Ananth Nagar', 'Channasandra', 'Choodasandra', 'Kaikondrahalli',\n",
       "       'Neeladri Nagar', 'Frazer Town', 'Cooke Town', 'Doddakallasandra',\n",
       "       'Chamrajpet', 'Rayasandra', '5th Block Hbr Layout', 'Pai Layout',\n",
       "       'Banashankari Stage V', 'Sonnenahalli', 'Benson Town',\n",
       "       '2nd Phase Judicial Layout', 'Poorna Pragna Layout',\n",
       "       'Judicial Layout', 'Banashankari Stage II', 'Karuna Nagar',\n",
       "       'Bannerghatta', 'Marsur', 'Bommenahalli', 'Laggere',\n",
       "       'Prithvi Layout', 'Banaswadi', 'Sector 2 HSR Layout',\n",
       "       'Shivaji Nagar', 'Badavala Nagar', 'Nagavarapalya', 'BTM Layout',\n",
       "       'BTM 2nd Stage', 'Hoskote', 'Doddaballapur', 'Sarakki Nagar',\n",
       "       'Bharathi Nagar', 'HAL 2nd Stage', 'Kadubeesanahalli'],\n",
       "      dtype=object)"
      ]
     },
     "execution_count": 60,
     "metadata": {},
     "output_type": "execute_result"
    }
   ],
   "source": [
    "df5.location.unique()"
   ]
  },
  {
   "cell_type": "code",
   "execution_count": 62,
   "metadata": {},
   "outputs": [
    {
     "data": {
      "text/plain": [
       "count    13200.000000\n",
       "mean         2.800833\n",
       "std          1.292843\n",
       "min          1.000000\n",
       "25%          2.000000\n",
       "50%          3.000000\n",
       "75%          3.000000\n",
       "max         43.000000\n",
       "Name: bhk, dtype: float64"
      ]
     },
     "execution_count": 62,
     "metadata": {},
     "output_type": "execute_result"
    }
   ],
   "source": [
    "df5[df5.total_sqft/df5.bhk<300]\n",
    "df5.bhk.describe()"
   ]
  },
  {
   "cell_type": "code",
   "execution_count": 68,
   "metadata": {},
   "outputs": [
    {
     "data": {
      "text/plain": [
       "(12456, 7)"
      ]
     },
     "execution_count": 68,
     "metadata": {},
     "output_type": "execute_result"
    }
   ],
   "source": [
    "df6 = df5[~(df5.total_sqft/df5.bhk<300)]\n",
    "df6.shape"
   ]
  },
  {
   "cell_type": "code",
   "execution_count": 69,
   "metadata": {},
   "outputs": [
    {
     "data": {
      "text/plain": [
       "count     12456.000000\n",
       "mean       6308.502826\n",
       "std        4168.127339\n",
       "min         267.829813\n",
       "25%        4210.526316\n",
       "50%        5294.117647\n",
       "75%        6916.666667\n",
       "max      176470.588235\n",
       "Name: price_per_sqft, dtype: float64"
      ]
     },
     "execution_count": 69,
     "metadata": {},
     "output_type": "execute_result"
    }
   ],
   "source": [
    "df6.price_per_sqft.describe()"
   ]
  },
  {
   "cell_type": "code",
   "execution_count": 71,
   "metadata": {},
   "outputs": [
    {
     "data": {
      "text/html": [
       "<div>\n",
       "<style scoped>\n",
       "    .dataframe tbody tr th:only-of-type {\n",
       "        vertical-align: middle;\n",
       "    }\n",
       "\n",
       "    .dataframe tbody tr th {\n",
       "        vertical-align: top;\n",
       "    }\n",
       "\n",
       "    .dataframe thead th {\n",
       "        text-align: right;\n",
       "    }\n",
       "</style>\n",
       "<table border=\"1\" class=\"dataframe\">\n",
       "  <thead>\n",
       "    <tr style=\"text-align: right;\">\n",
       "      <th></th>\n",
       "      <th>location</th>\n",
       "      <th>size</th>\n",
       "      <th>total_sqft</th>\n",
       "      <th>bath</th>\n",
       "      <th>price</th>\n",
       "      <th>bhk</th>\n",
       "      <th>price_per_sqft</th>\n",
       "    </tr>\n",
       "  </thead>\n",
       "  <tbody>\n",
       "    <tr>\n",
       "      <th>210</th>\n",
       "      <td>1st Block Jayanagar</td>\n",
       "      <td>4 BHK</td>\n",
       "      <td>2850.0</td>\n",
       "      <td>4.0</td>\n",
       "      <td>428.00</td>\n",
       "      <td>4</td>\n",
       "      <td>15017.543860</td>\n",
       "    </tr>\n",
       "    <tr>\n",
       "      <th>848</th>\n",
       "      <td>1st Block Jayanagar</td>\n",
       "      <td>3 BHK</td>\n",
       "      <td>1630.0</td>\n",
       "      <td>3.0</td>\n",
       "      <td>194.00</td>\n",
       "      <td>3</td>\n",
       "      <td>11901.840491</td>\n",
       "    </tr>\n",
       "    <tr>\n",
       "      <th>2152</th>\n",
       "      <td>1st Block Jayanagar</td>\n",
       "      <td>3 BHK</td>\n",
       "      <td>1875.0</td>\n",
       "      <td>2.0</td>\n",
       "      <td>235.00</td>\n",
       "      <td>3</td>\n",
       "      <td>12533.333333</td>\n",
       "    </tr>\n",
       "    <tr>\n",
       "      <th>7138</th>\n",
       "      <td>1st Block Jayanagar</td>\n",
       "      <td>3 BHK</td>\n",
       "      <td>1200.0</td>\n",
       "      <td>2.0</td>\n",
       "      <td>130.00</td>\n",
       "      <td>3</td>\n",
       "      <td>10833.333333</td>\n",
       "    </tr>\n",
       "    <tr>\n",
       "      <th>7358</th>\n",
       "      <td>1st Block Jayanagar</td>\n",
       "      <td>2 BHK</td>\n",
       "      <td>1235.0</td>\n",
       "      <td>2.0</td>\n",
       "      <td>148.00</td>\n",
       "      <td>2</td>\n",
       "      <td>11983.805668</td>\n",
       "    </tr>\n",
       "    <tr>\n",
       "      <th>...</th>\n",
       "      <td>...</td>\n",
       "      <td>...</td>\n",
       "      <td>...</td>\n",
       "      <td>...</td>\n",
       "      <td>...</td>\n",
       "      <td>...</td>\n",
       "      <td>...</td>\n",
       "    </tr>\n",
       "    <tr>\n",
       "      <th>13285</th>\n",
       "      <td>other</td>\n",
       "      <td>2 BHK</td>\n",
       "      <td>1353.0</td>\n",
       "      <td>2.0</td>\n",
       "      <td>110.00</td>\n",
       "      <td>2</td>\n",
       "      <td>8130.081301</td>\n",
       "    </tr>\n",
       "    <tr>\n",
       "      <th>13291</th>\n",
       "      <td>other</td>\n",
       "      <td>1 Bedroom</td>\n",
       "      <td>812.0</td>\n",
       "      <td>1.0</td>\n",
       "      <td>26.00</td>\n",
       "      <td>1</td>\n",
       "      <td>3201.970443</td>\n",
       "    </tr>\n",
       "    <tr>\n",
       "      <th>13292</th>\n",
       "      <td>other</td>\n",
       "      <td>3 BHK</td>\n",
       "      <td>1440.0</td>\n",
       "      <td>2.0</td>\n",
       "      <td>63.93</td>\n",
       "      <td>3</td>\n",
       "      <td>4439.583333</td>\n",
       "    </tr>\n",
       "    <tr>\n",
       "      <th>13302</th>\n",
       "      <td>other</td>\n",
       "      <td>2 BHK</td>\n",
       "      <td>1075.0</td>\n",
       "      <td>2.0</td>\n",
       "      <td>48.00</td>\n",
       "      <td>2</td>\n",
       "      <td>4465.116279</td>\n",
       "    </tr>\n",
       "    <tr>\n",
       "      <th>13316</th>\n",
       "      <td>other</td>\n",
       "      <td>4 BHK</td>\n",
       "      <td>3600.0</td>\n",
       "      <td>5.0</td>\n",
       "      <td>400.00</td>\n",
       "      <td>4</td>\n",
       "      <td>11111.111111</td>\n",
       "    </tr>\n",
       "  </tbody>\n",
       "</table>\n",
       "<p>10242 rows × 7 columns</p>\n",
       "</div>"
      ],
      "text/plain": [
       "                  location       size  total_sqft  bath   price  bhk  \\\n",
       "210    1st Block Jayanagar      4 BHK      2850.0   4.0  428.00    4   \n",
       "848    1st Block Jayanagar      3 BHK      1630.0   3.0  194.00    3   \n",
       "2152   1st Block Jayanagar      3 BHK      1875.0   2.0  235.00    3   \n",
       "7138   1st Block Jayanagar      3 BHK      1200.0   2.0  130.00    3   \n",
       "7358   1st Block Jayanagar      2 BHK      1235.0   2.0  148.00    2   \n",
       "...                    ...        ...         ...   ...     ...  ...   \n",
       "13285                other      2 BHK      1353.0   2.0  110.00    2   \n",
       "13291                other  1 Bedroom       812.0   1.0   26.00    1   \n",
       "13292                other      3 BHK      1440.0   2.0   63.93    3   \n",
       "13302                other      2 BHK      1075.0   2.0   48.00    2   \n",
       "13316                other      4 BHK      3600.0   5.0  400.00    4   \n",
       "\n",
       "       price_per_sqft  \n",
       "210      15017.543860  \n",
       "848      11901.840491  \n",
       "2152     12533.333333  \n",
       "7138     10833.333333  \n",
       "7358     11983.805668  \n",
       "...               ...  \n",
       "13285     8130.081301  \n",
       "13291     3201.970443  \n",
       "13292     4439.583333  \n",
       "13302     4465.116279  \n",
       "13316    11111.111111  \n",
       "\n",
       "[10242 rows x 7 columns]"
      ]
     },
     "execution_count": 71,
     "metadata": {},
     "output_type": "execute_result"
    }
   ],
   "source": [
    "def remove_pps_outliers(df):\n",
    "    df_out = pd.DataFrame()\n",
    "    for key, subdf in df.groupby(\"location\"):\n",
    "        m = np.mean(subdf.price_per_sqft)\n",
    "        std = np.std(subdf.price_per_sqft)\n",
    "        reduced_df = subdf[(subdf.price_per_sqft>(m-std)) & (subdf.price_per_sqft<(m+std))]\n",
    "        df_out = pd.concat([df_out,reduced_df],ignore_index=False)\n",
    "    return df_out\n",
    "df7 = remove_pps_outliers(df6)\n",
    "df7"
   ]
  },
  {
   "cell_type": "code",
   "execution_count": 72,
   "metadata": {},
   "outputs": [
    {
     "data": {
      "text/plain": [
       "(10242, 7)"
      ]
     },
     "execution_count": 72,
     "metadata": {},
     "output_type": "execute_result"
    }
   ],
   "source": [
    "df7.shape"
   ]
  },
  {
   "cell_type": "code",
   "execution_count": 73,
   "metadata": {},
   "outputs": [
    {
     "data": {
      "text/plain": [
       "count    10242.000000\n",
       "mean      5657.735993\n",
       "std       2266.368844\n",
       "min       1250.000000\n",
       "25%       4244.796706\n",
       "50%       5172.846776\n",
       "75%       6426.000592\n",
       "max      24509.803922\n",
       "Name: price_per_sqft, dtype: float64"
      ]
     },
     "execution_count": 73,
     "metadata": {},
     "output_type": "execute_result"
    }
   ],
   "source": [
    "df7.price_per_sqft.describe()"
   ]
  },
  {
   "cell_type": "code",
   "execution_count": 74,
   "metadata": {},
   "outputs": [
    {
     "data": {
      "text/plain": [
       "array(['1st Block Jayanagar', '1st Phase JP Nagar',\n",
       "       '2nd Phase Judicial Layout', '2nd Stage Nagarbhavi',\n",
       "       '5th Block Hbr Layout', '5th Phase JP Nagar', '6th Phase JP Nagar',\n",
       "       '7th Phase JP Nagar', '8th Phase JP Nagar', '9th Phase JP Nagar',\n",
       "       'AECS Layout', 'Abbigere', 'Akshaya Nagar', 'Ambalipura',\n",
       "       'Ambedkar Nagar', 'Amruthahalli', 'Anandapura', 'Ananth Nagar',\n",
       "       'Anekal', 'Anjanapura', 'Ardendale', 'Arekere', 'Attibele',\n",
       "       'BEML Layout', 'BTM 2nd Stage', 'BTM Layout', 'Babusapalaya',\n",
       "       'Badavala Nagar', 'Balagere', 'Banashankari',\n",
       "       'Banashankari Stage II', 'Banashankari Stage III',\n",
       "       'Banashankari Stage V', 'Banashankari Stage VI', 'Banaswadi',\n",
       "       'Banjara Layout', 'Bannerghatta', 'Bannerghatta Road',\n",
       "       'Basavangudi', 'Basaveshwara Nagar', 'Battarahalli', 'Begur',\n",
       "       'Begur Road', 'Bellandur', 'Benson Town', 'Bharathi Nagar',\n",
       "       'Bhoganhalli', 'Billekahalli', 'Binny Pete', 'Bisuvanahalli',\n",
       "       'Bommanahalli', 'Bommasandra', 'Bommasandra Industrial Area',\n",
       "       'Bommenahalli', 'Brookefield', 'Budigere', 'CV Raman Nagar',\n",
       "       'Chamrajpet', 'Chandapura', 'Channasandra', 'Chikka Tirupathi',\n",
       "       'Chikkabanavar', 'Chikkalasandra', 'Choodasandra', 'Cooke Town',\n",
       "       'Cox Town', 'Cunningham Road', 'Dasanapura', 'Dasarahalli',\n",
       "       'Devanahalli', 'Devarachikkanahalli', 'Dodda Nekkundi',\n",
       "       'Doddaballapur', 'Doddakallasandra', 'Doddathoguru', 'Domlur',\n",
       "       'Dommasandra', 'EPIP Zone', 'Electronic City',\n",
       "       'Electronic City Phase II', 'Electronics City Phase 1',\n",
       "       'Frazer Town', 'GM Palaya', 'Garudachar Palya', 'Giri Nagar',\n",
       "       'Gollarapalya Hosahalli', 'Gottigere', 'Green Glen Layout',\n",
       "       'Gubbalala', 'Gunjur', 'HAL 2nd Stage', 'HBR Layout',\n",
       "       'HRBR Layout', 'HSR Layout', 'Haralur Road', 'Harlur', 'Hebbal',\n",
       "       'Hebbal Kempapura', 'Hegde Nagar', 'Hennur', 'Hennur Road',\n",
       "       'Hoodi', 'Horamavu Agara', 'Horamavu Banaswadi', 'Hormavu',\n",
       "       'Hosa Road', 'Hosakerehalli', 'Hoskote', 'Hosur Road', 'Hulimavu',\n",
       "       'ISRO Layout', 'ITPL', 'Iblur Village', 'Indira Nagar', 'JP Nagar',\n",
       "       'Jakkur', 'Jalahalli', 'Jalahalli East', 'Jigani',\n",
       "       'Judicial Layout', 'KR Puram', 'Kadubeesanahalli', 'Kadugodi',\n",
       "       'Kaggadasapura', 'Kaggalipura', 'Kaikondrahalli',\n",
       "       'Kalena Agrahara', 'Kalyan nagar', 'Kambipura', 'Kammanahalli',\n",
       "       'Kammasandra', 'Kanakapura', 'Kanakpura Road', 'Kannamangala',\n",
       "       'Karuna Nagar', 'Kasavanhalli', 'Kasturi Nagar', 'Kathriguppe',\n",
       "       'Kaval Byrasandra', 'Kenchenahalli', 'Kengeri',\n",
       "       'Kengeri Satellite Town', 'Kereguddadahalli', 'Kodichikkanahalli',\n",
       "       'Kodigehaali', 'Kodigehalli', 'Kodihalli', 'Kogilu', 'Konanakunte',\n",
       "       'Koramangala', 'Kothannur', 'Kothanur', 'Kudlu', 'Kudlu Gate',\n",
       "       'Kumaraswami Layout', 'Kundalahalli', 'LB Shastri Nagar',\n",
       "       'Laggere', 'Lakshminarayana Pura', 'Lingadheeranahalli',\n",
       "       'Magadi Road', 'Mahadevpura', 'Mahalakshmi Layout', 'Mallasandra',\n",
       "       'Malleshpalya', 'Malleshwaram', 'Marathahalli', 'Margondanahalli',\n",
       "       'Marsur', 'Mico Layout', 'Munnekollal', 'Murugeshpalya',\n",
       "       'Mysore Road', 'NGR Layout', 'NRI Layout', 'Nagarbhavi',\n",
       "       'Nagasandra', 'Nagavara', 'Nagavarapalya', 'Narayanapura',\n",
       "       'Neeladri Nagar', 'Nehru Nagar', 'OMBR Layout', 'Old Airport Road',\n",
       "       'Old Madras Road', 'Padmanabhanagar', 'Pai Layout', 'Panathur',\n",
       "       'Parappana Agrahara', 'Pattandur Agrahara', 'Poorna Pragna Layout',\n",
       "       'Prithvi Layout', 'R.T. Nagar', 'Rachenahalli',\n",
       "       'Raja Rajeshwari Nagar', 'Rajaji Nagar', 'Rajiv Nagar',\n",
       "       'Ramagondanahalli', 'Ramamurthy Nagar', 'Rayasandra',\n",
       "       'Sahakara Nagar', 'Sanjay nagar', 'Sarakki Nagar', 'Sarjapur',\n",
       "       'Sarjapur  Road', 'Sarjapura - Attibele Road',\n",
       "       'Sector 2 HSR Layout', 'Sector 7 HSR Layout', 'Seegehalli',\n",
       "       'Shampura', 'Shivaji Nagar', 'Singasandra', 'Somasundara Palya',\n",
       "       'Sompura', 'Sonnenahalli', 'Subramanyapura', 'Sultan Palaya',\n",
       "       'TC Palaya', 'Talaghattapura', 'Thanisandra', 'Thigalarapalya',\n",
       "       'Thubarahalli', 'Tindlu', 'Tumkur Road', 'Ulsoor', 'Uttarahalli',\n",
       "       'Varthur', 'Varthur Road', 'Vasanthapura', 'Vidyaranyapura',\n",
       "       'Vijayanagar', 'Vishveshwarya Layout', 'Vishwapriya Layout',\n",
       "       'Vittasandra', 'Whitefield', 'Yelachenahalli', 'Yelahanka',\n",
       "       'Yelahanka New Town', 'Yelenahalli', 'Yeshwanthpur', 'other'],\n",
       "      dtype=object)"
      ]
     },
     "execution_count": 74,
     "metadata": {},
     "output_type": "execute_result"
    }
   ],
   "source": [
    "df7[\"location\"].unique()"
   ]
  },
  {
   "cell_type": "code",
   "execution_count": 75,
   "metadata": {},
   "outputs": [
    {
     "data": {
      "image/png": "[encoded data removed]",
      "text/plain": [
       "<Figure size 1080x720 with 1 Axes>"
      ]
     },
     "metadata": {
      "needs_background": "light"
     },
     "output_type": "display_data"
    }
   ],
   "source": [
    "def plot_scatter_chart(df,location):\n",
    "    bhk2 = df[(df.location==location) & (df.bhk==2)]\n",
    "    bhk3 = df[(df.location==location) & (df.bhk==3)]\n",
    "    matplotlib.rcParams[\"figure.figsize\"]=(15,10)\n",
    "    plt.scatter(bhk2.total_sqft,bhk2.price,color=\"red\",marker=\"+\",label=\"2 bhk\",s=50)\n",
    "    plt.scatter(bhk3.total_sqft,bhk3.price,color=\"blue\",marker=\"*\",label=\"3bhk\",s=50)\n",
    "    plt.xlabel(\"total squarefeet area\")\n",
    "    plt.ylabel(\"price\")\n",
    "    plt.title(\"location\")\n",
    "    plt.legend()\n",
    "plot_scatter_chart(df7,\"other\")"
   ]
  },
  {
   "cell_type": "code",
   "execution_count": 43,
   "metadata": {},
   "outputs": [
    {
     "data": {
      "text/plain": [
       "{'1': {'mean': 4000, 'std': 3000, 'count': 34},\n",
       " '2': {'mean': 4300, 'std': 2300, 'count': 22}}"
      ]
     },
     "execution_count": 43,
     "metadata": {},
     "output_type": "execute_result"
    }
   ],
   "source": [
    "{\n",
    "    \"1\": {\"mean\":4000,\n",
    "          \"std\": 3000,\n",
    "          \"count\": 34\n",
    "          \n",
    "         },\n",
    "    \"2\":{\"mean\":4300,\n",
    "        \"std\": 2300,\n",
    "        \"count\": 22}\n",
    "    \n",
    "}"
   ]
  },
  {
   "cell_type": "code",
   "execution_count": 44,
   "metadata": {},
   "outputs": [
    {
     "data": {
      "text/plain": [
       "(array([1.086e+03, 5.734e+03, 2.471e+03, 4.960e+02, 2.630e+02, 1.260e+02,\n",
       "        3.900e+01, 1.700e+01, 5.000e+00, 5.000e+00]),\n",
       " array([ 1250.        ,  3575.98039216,  5901.96078431,  8227.94117647,\n",
       "        10553.92156863, 12879.90196078, 15205.88235294, 17531.8627451 ,\n",
       "        19857.84313725, 22183.82352941, 24509.80392157]),\n",
       " <BarContainer object of 10 artists>)"
      ]
     },
     "execution_count": 44,
     "metadata": {},
     "output_type": "execute_result"
    },
    {
     "data": {
      "image/png": "[encoded data removed]",
      "text/plain": [
       "<Figure size 1080x720 with 1 Axes>"
      ]
     },
     "metadata": {
      "needs_background": "light"
     },
     "output_type": "display_data"
    }
   ],
   "source": [
    "plt.hist(df7.price_per_sqft,rwidth=0.8)"
   ]
  },
  {
   "cell_type": "code",
   "execution_count": 45,
   "metadata": {},
   "outputs": [
    {
     "data": {
      "text/plain": [
       "(array([6.543e+03, 2.620e+03, 9.120e+02, 1.080e+02, 4.400e+01, 1.000e+01,\n",
       "        0.000e+00, 3.000e+00, 1.000e+00, 1.000e+00]),\n",
       " array([ 1. ,  2.5,  4. ,  5.5,  7. ,  8.5, 10. , 11.5, 13. , 14.5, 16. ]),\n",
       " <BarContainer object of 10 artists>)"
      ]
     },
     "execution_count": 45,
     "metadata": {},
     "output_type": "execute_result"
    },
    {
     "data": {
      "image/png": "[encoded data removed]",
      "text/plain": [
       "<Figure size 1080x720 with 1 Axes>"
      ]
     },
     "metadata": {
      "needs_background": "light"
     },
     "output_type": "display_data"
    }
   ],
   "source": [
    "plt.hist(df7.bath,rwidth=0.8)"
   ]
  },
  {
   "cell_type": "code",
   "execution_count": 78,
   "metadata": {},
   "outputs": [
    {
     "data": {
      "text/html": [
       "<div>\n",
       "<style scoped>\n",
       "    .dataframe tbody tr th:only-of-type {\n",
       "        vertical-align: middle;\n",
       "    }\n",
       "\n",
       "    .dataframe tbody tr th {\n",
       "        vertical-align: top;\n",
       "    }\n",
       "\n",
       "    .dataframe thead th {\n",
       "        text-align: right;\n",
       "    }\n",
       "</style>\n",
       "<table border=\"1\" class=\"dataframe\">\n",
       "  <thead>\n",
       "    <tr style=\"text-align: right;\">\n",
       "      <th></th>\n",
       "      <th>location</th>\n",
       "      <th>size</th>\n",
       "      <th>total_sqft</th>\n",
       "      <th>bath</th>\n",
       "      <th>price</th>\n",
       "      <th>bhk</th>\n",
       "      <th>price_per_sqft</th>\n",
       "    </tr>\n",
       "  </thead>\n",
       "  <tbody>\n",
       "    <tr>\n",
       "      <th>210</th>\n",
       "      <td>1st Block Jayanagar</td>\n",
       "      <td>4 BHK</td>\n",
       "      <td>2850.0</td>\n",
       "      <td>4.0</td>\n",
       "      <td>428.00</td>\n",
       "      <td>4</td>\n",
       "      <td>15017.543860</td>\n",
       "    </tr>\n",
       "    <tr>\n",
       "      <th>848</th>\n",
       "      <td>1st Block Jayanagar</td>\n",
       "      <td>3 BHK</td>\n",
       "      <td>1630.0</td>\n",
       "      <td>3.0</td>\n",
       "      <td>194.00</td>\n",
       "      <td>3</td>\n",
       "      <td>11901.840491</td>\n",
       "    </tr>\n",
       "    <tr>\n",
       "      <th>2152</th>\n",
       "      <td>1st Block Jayanagar</td>\n",
       "      <td>3 BHK</td>\n",
       "      <td>1875.0</td>\n",
       "      <td>2.0</td>\n",
       "      <td>235.00</td>\n",
       "      <td>3</td>\n",
       "      <td>12533.333333</td>\n",
       "    </tr>\n",
       "    <tr>\n",
       "      <th>7138</th>\n",
       "      <td>1st Block Jayanagar</td>\n",
       "      <td>3 BHK</td>\n",
       "      <td>1200.0</td>\n",
       "      <td>2.0</td>\n",
       "      <td>130.00</td>\n",
       "      <td>3</td>\n",
       "      <td>10833.333333</td>\n",
       "    </tr>\n",
       "    <tr>\n",
       "      <th>7358</th>\n",
       "      <td>1st Block Jayanagar</td>\n",
       "      <td>2 BHK</td>\n",
       "      <td>1235.0</td>\n",
       "      <td>2.0</td>\n",
       "      <td>148.00</td>\n",
       "      <td>2</td>\n",
       "      <td>11983.805668</td>\n",
       "    </tr>\n",
       "    <tr>\n",
       "      <th>...</th>\n",
       "      <td>...</td>\n",
       "      <td>...</td>\n",
       "      <td>...</td>\n",
       "      <td>...</td>\n",
       "      <td>...</td>\n",
       "      <td>...</td>\n",
       "      <td>...</td>\n",
       "    </tr>\n",
       "    <tr>\n",
       "      <th>13285</th>\n",
       "      <td>other</td>\n",
       "      <td>2 BHK</td>\n",
       "      <td>1353.0</td>\n",
       "      <td>2.0</td>\n",
       "      <td>110.00</td>\n",
       "      <td>2</td>\n",
       "      <td>8130.081301</td>\n",
       "    </tr>\n",
       "    <tr>\n",
       "      <th>13291</th>\n",
       "      <td>other</td>\n",
       "      <td>1 Bedroom</td>\n",
       "      <td>812.0</td>\n",
       "      <td>1.0</td>\n",
       "      <td>26.00</td>\n",
       "      <td>1</td>\n",
       "      <td>3201.970443</td>\n",
       "    </tr>\n",
       "    <tr>\n",
       "      <th>13292</th>\n",
       "      <td>other</td>\n",
       "      <td>3 BHK</td>\n",
       "      <td>1440.0</td>\n",
       "      <td>2.0</td>\n",
       "      <td>63.93</td>\n",
       "      <td>3</td>\n",
       "      <td>4439.583333</td>\n",
       "    </tr>\n",
       "    <tr>\n",
       "      <th>13302</th>\n",
       "      <td>other</td>\n",
       "      <td>2 BHK</td>\n",
       "      <td>1075.0</td>\n",
       "      <td>2.0</td>\n",
       "      <td>48.00</td>\n",
       "      <td>2</td>\n",
       "      <td>4465.116279</td>\n",
       "    </tr>\n",
       "    <tr>\n",
       "      <th>13316</th>\n",
       "      <td>other</td>\n",
       "      <td>4 BHK</td>\n",
       "      <td>3600.0</td>\n",
       "      <td>5.0</td>\n",
       "      <td>400.00</td>\n",
       "      <td>4</td>\n",
       "      <td>11111.111111</td>\n",
       "    </tr>\n",
       "  </tbody>\n",
       "</table>\n",
       "<p>10148 rows × 7 columns</p>\n",
       "</div>"
      ],
      "text/plain": [
       "                  location       size  total_sqft  bath   price  bhk  \\\n",
       "210    1st Block Jayanagar      4 BHK      2850.0   4.0  428.00    4   \n",
       "848    1st Block Jayanagar      3 BHK      1630.0   3.0  194.00    3   \n",
       "2152   1st Block Jayanagar      3 BHK      1875.0   2.0  235.00    3   \n",
       "7138   1st Block Jayanagar      3 BHK      1200.0   2.0  130.00    3   \n",
       "7358   1st Block Jayanagar      2 BHK      1235.0   2.0  148.00    2   \n",
       "...                    ...        ...         ...   ...     ...  ...   \n",
       "13285                other      2 BHK      1353.0   2.0  110.00    2   \n",
       "13291                other  1 Bedroom       812.0   1.0   26.00    1   \n",
       "13292                other      3 BHK      1440.0   2.0   63.93    3   \n",
       "13302                other      2 BHK      1075.0   2.0   48.00    2   \n",
       "13316                other      4 BHK      3600.0   5.0  400.00    4   \n",
       "\n",
       "       price_per_sqft  \n",
       "210      15017.543860  \n",
       "848      11901.840491  \n",
       "2152     12533.333333  \n",
       "7138     10833.333333  \n",
       "7358     11983.805668  \n",
       "...               ...  \n",
       "13285     8130.081301  \n",
       "13291     3201.970443  \n",
       "13292     4439.583333  \n",
       "13302     4465.116279  \n",
       "13316    11111.111111  \n",
       "\n",
       "[10148 rows x 7 columns]"
      ]
     },
     "execution_count": 78,
     "metadata": {},
     "output_type": "execute_result"
    }
   ],
   "source": [
    "df7[(df7.bath<df7.bhk+2)]"
   ]
  },
  {
   "cell_type": "code",
   "execution_count": 80,
   "metadata": {},
   "outputs": [],
   "source": [
    "df8 = df7[(df7.bath<=df7.bhk+2)]"
   ]
  },
  {
   "cell_type": "code",
   "execution_count": 81,
   "metadata": {},
   "outputs": [
    {
     "data": {
      "text/plain": [
       "(array([6.543e+03, 2.620e+03, 9.120e+02, 1.070e+02, 4.200e+01, 9.000e+00,\n",
       "        0.000e+00, 3.000e+00, 1.000e+00, 1.000e+00]),\n",
       " array([ 1. ,  2.5,  4. ,  5.5,  7. ,  8.5, 10. , 11.5, 13. , 14.5, 16. ]),\n",
       " <BarContainer object of 10 artists>)"
      ]
     },
     "execution_count": 81,
     "metadata": {},
     "output_type": "execute_result"
    },
    {
     "data": {
      "image/png": "[encoded data removed]",
      "text/plain": [
       "<Figure size 1080x720 with 1 Axes>"
      ]
     },
     "metadata": {
      "needs_background": "light"
     },
     "output_type": "display_data"
    }
   ],
   "source": [
    "plt.hist(df8.bath,rwidth=0.8)"
   ]
  },
  {
   "cell_type": "code",
   "execution_count": 82,
   "metadata": {},
   "outputs": [
    {
     "data": {
      "text/html": [
       "<div>\n",
       "<style scoped>\n",
       "    .dataframe tbody tr th:only-of-type {\n",
       "        vertical-align: middle;\n",
       "    }\n",
       "\n",
       "    .dataframe tbody tr th {\n",
       "        vertical-align: top;\n",
       "    }\n",
       "\n",
       "    .dataframe thead th {\n",
       "        text-align: right;\n",
       "    }\n",
       "</style>\n",
       "<table border=\"1\" class=\"dataframe\">\n",
       "  <thead>\n",
       "    <tr style=\"text-align: right;\">\n",
       "      <th></th>\n",
       "      <th>location</th>\n",
       "      <th>size</th>\n",
       "      <th>total_sqft</th>\n",
       "      <th>bath</th>\n",
       "      <th>price</th>\n",
       "      <th>bhk</th>\n",
       "      <th>price_per_sqft</th>\n",
       "    </tr>\n",
       "  </thead>\n",
       "  <tbody>\n",
       "    <tr>\n",
       "      <th>210</th>\n",
       "      <td>1st Block Jayanagar</td>\n",
       "      <td>4 BHK</td>\n",
       "      <td>2850.0</td>\n",
       "      <td>4.0</td>\n",
       "      <td>428.0</td>\n",
       "      <td>4</td>\n",
       "      <td>15017.543860</td>\n",
       "    </tr>\n",
       "    <tr>\n",
       "      <th>848</th>\n",
       "      <td>1st Block Jayanagar</td>\n",
       "      <td>3 BHK</td>\n",
       "      <td>1630.0</td>\n",
       "      <td>3.0</td>\n",
       "      <td>194.0</td>\n",
       "      <td>3</td>\n",
       "      <td>11901.840491</td>\n",
       "    </tr>\n",
       "    <tr>\n",
       "      <th>2152</th>\n",
       "      <td>1st Block Jayanagar</td>\n",
       "      <td>3 BHK</td>\n",
       "      <td>1875.0</td>\n",
       "      <td>2.0</td>\n",
       "      <td>235.0</td>\n",
       "      <td>3</td>\n",
       "      <td>12533.333333</td>\n",
       "    </tr>\n",
       "    <tr>\n",
       "      <th>7138</th>\n",
       "      <td>1st Block Jayanagar</td>\n",
       "      <td>3 BHK</td>\n",
       "      <td>1200.0</td>\n",
       "      <td>2.0</td>\n",
       "      <td>130.0</td>\n",
       "      <td>3</td>\n",
       "      <td>10833.333333</td>\n",
       "    </tr>\n",
       "    <tr>\n",
       "      <th>7358</th>\n",
       "      <td>1st Block Jayanagar</td>\n",
       "      <td>2 BHK</td>\n",
       "      <td>1235.0</td>\n",
       "      <td>2.0</td>\n",
       "      <td>148.0</td>\n",
       "      <td>2</td>\n",
       "      <td>11983.805668</td>\n",
       "    </tr>\n",
       "  </tbody>\n",
       "</table>\n",
       "</div>"
      ],
      "text/plain": [
       "                 location   size  total_sqft  bath  price  bhk  price_per_sqft\n",
       "210   1st Block Jayanagar  4 BHK      2850.0   4.0  428.0    4    15017.543860\n",
       "848   1st Block Jayanagar  3 BHK      1630.0   3.0  194.0    3    11901.840491\n",
       "2152  1st Block Jayanagar  3 BHK      1875.0   2.0  235.0    3    12533.333333\n",
       "7138  1st Block Jayanagar  3 BHK      1200.0   2.0  130.0    3    10833.333333\n",
       "7358  1st Block Jayanagar  2 BHK      1235.0   2.0  148.0    2    11983.805668"
      ]
     },
     "execution_count": 82,
     "metadata": {},
     "output_type": "execute_result"
    }
   ],
   "source": [
    "df8.head()"
   ]
  },
  {
   "cell_type": "code",
   "execution_count": 83,
   "metadata": {},
   "outputs": [],
   "source": [
    "df9 = df8.drop([\"price_per_sqft\",\"size\"],axis=\"columns\")\n"
   ]
  },
  {
   "cell_type": "code",
   "execution_count": 84,
   "metadata": {},
   "outputs": [
    {
     "data": {
      "text/html": [
       "<div>\n",
       "<style scoped>\n",
       "    .dataframe tbody tr th:only-of-type {\n",
       "        vertical-align: middle;\n",
       "    }\n",
       "\n",
       "    .dataframe tbody tr th {\n",
       "        vertical-align: top;\n",
       "    }\n",
       "\n",
       "    .dataframe thead th {\n",
       "        text-align: right;\n",
       "    }\n",
       "</style>\n",
       "<table border=\"1\" class=\"dataframe\">\n",
       "  <thead>\n",
       "    <tr style=\"text-align: right;\">\n",
       "      <th></th>\n",
       "      <th>location</th>\n",
       "      <th>total_sqft</th>\n",
       "      <th>bath</th>\n",
       "      <th>price</th>\n",
       "      <th>bhk</th>\n",
       "    </tr>\n",
       "  </thead>\n",
       "  <tbody>\n",
       "    <tr>\n",
       "      <th>210</th>\n",
       "      <td>1st Block Jayanagar</td>\n",
       "      <td>2850.0</td>\n",
       "      <td>4.0</td>\n",
       "      <td>428.0</td>\n",
       "      <td>4</td>\n",
       "    </tr>\n",
       "    <tr>\n",
       "      <th>848</th>\n",
       "      <td>1st Block Jayanagar</td>\n",
       "      <td>1630.0</td>\n",
       "      <td>3.0</td>\n",
       "      <td>194.0</td>\n",
       "      <td>3</td>\n",
       "    </tr>\n",
       "    <tr>\n",
       "      <th>2152</th>\n",
       "      <td>1st Block Jayanagar</td>\n",
       "      <td>1875.0</td>\n",
       "      <td>2.0</td>\n",
       "      <td>235.0</td>\n",
       "      <td>3</td>\n",
       "    </tr>\n",
       "    <tr>\n",
       "      <th>7138</th>\n",
       "      <td>1st Block Jayanagar</td>\n",
       "      <td>1200.0</td>\n",
       "      <td>2.0</td>\n",
       "      <td>130.0</td>\n",
       "      <td>3</td>\n",
       "    </tr>\n",
       "    <tr>\n",
       "      <th>7358</th>\n",
       "      <td>1st Block Jayanagar</td>\n",
       "      <td>1235.0</td>\n",
       "      <td>2.0</td>\n",
       "      <td>148.0</td>\n",
       "      <td>2</td>\n",
       "    </tr>\n",
       "  </tbody>\n",
       "</table>\n",
       "</div>"
      ],
      "text/plain": [
       "                 location  total_sqft  bath  price  bhk\n",
       "210   1st Block Jayanagar      2850.0   4.0  428.0    4\n",
       "848   1st Block Jayanagar      1630.0   3.0  194.0    3\n",
       "2152  1st Block Jayanagar      1875.0   2.0  235.0    3\n",
       "7138  1st Block Jayanagar      1200.0   2.0  130.0    3\n",
       "7358  1st Block Jayanagar      1235.0   2.0  148.0    2"
      ]
     },
     "execution_count": 84,
     "metadata": {},
     "output_type": "execute_result"
    }
   ],
   "source": [
    "df9.head()"
   ]
  },
  {
   "cell_type": "code",
   "execution_count": 88,
   "metadata": {},
   "outputs": [
    {
     "data": {
      "text/html": [
       "<div>\n",
       "<style scoped>\n",
       "    .dataframe tbody tr th:only-of-type {\n",
       "        vertical-align: middle;\n",
       "    }\n",
       "\n",
       "    .dataframe tbody tr th {\n",
       "        vertical-align: top;\n",
       "    }\n",
       "\n",
       "    .dataframe thead th {\n",
       "        text-align: right;\n",
       "    }\n",
       "</style>\n",
       "<table border=\"1\" class=\"dataframe\">\n",
       "  <thead>\n",
       "    <tr style=\"text-align: right;\">\n",
       "      <th></th>\n",
       "      <th>1st Block Jayanagar</th>\n",
       "      <th>1st Phase JP Nagar</th>\n",
       "      <th>2nd Phase Judicial Layout</th>\n",
       "      <th>2nd Stage Nagarbhavi</th>\n",
       "      <th>5th Block Hbr Layout</th>\n",
       "      <th>5th Phase JP Nagar</th>\n",
       "      <th>6th Phase JP Nagar</th>\n",
       "      <th>7th Phase JP Nagar</th>\n",
       "      <th>8th Phase JP Nagar</th>\n",
       "      <th>9th Phase JP Nagar</th>\n",
       "      <th>...</th>\n",
       "      <th>Vishveshwarya Layout</th>\n",
       "      <th>Vishwapriya Layout</th>\n",
       "      <th>Vittasandra</th>\n",
       "      <th>Whitefield</th>\n",
       "      <th>Yelachenahalli</th>\n",
       "      <th>Yelahanka</th>\n",
       "      <th>Yelahanka New Town</th>\n",
       "      <th>Yelenahalli</th>\n",
       "      <th>Yeshwanthpur</th>\n",
       "      <th>other</th>\n",
       "    </tr>\n",
       "  </thead>\n",
       "  <tbody>\n",
       "    <tr>\n",
       "      <th>210</th>\n",
       "      <td>1</td>\n",
       "      <td>0</td>\n",
       "      <td>0</td>\n",
       "      <td>0</td>\n",
       "      <td>0</td>\n",
       "      <td>0</td>\n",
       "      <td>0</td>\n",
       "      <td>0</td>\n",
       "      <td>0</td>\n",
       "      <td>0</td>\n",
       "      <td>...</td>\n",
       "      <td>0</td>\n",
       "      <td>0</td>\n",
       "      <td>0</td>\n",
       "      <td>0</td>\n",
       "      <td>0</td>\n",
       "      <td>0</td>\n",
       "      <td>0</td>\n",
       "      <td>0</td>\n",
       "      <td>0</td>\n",
       "      <td>0</td>\n",
       "    </tr>\n",
       "    <tr>\n",
       "      <th>848</th>\n",
       "      <td>1</td>\n",
       "      <td>0</td>\n",
       "      <td>0</td>\n",
       "      <td>0</td>\n",
       "      <td>0</td>\n",
       "      <td>0</td>\n",
       "      <td>0</td>\n",
       "      <td>0</td>\n",
       "      <td>0</td>\n",
       "      <td>0</td>\n",
       "      <td>...</td>\n",
       "      <td>0</td>\n",
       "      <td>0</td>\n",
       "      <td>0</td>\n",
       "      <td>0</td>\n",
       "      <td>0</td>\n",
       "      <td>0</td>\n",
       "      <td>0</td>\n",
       "      <td>0</td>\n",
       "      <td>0</td>\n",
       "      <td>0</td>\n",
       "    </tr>\n",
       "    <tr>\n",
       "      <th>2152</th>\n",
       "      <td>1</td>\n",
       "      <td>0</td>\n",
       "      <td>0</td>\n",
       "      <td>0</td>\n",
       "      <td>0</td>\n",
       "      <td>0</td>\n",
       "      <td>0</td>\n",
       "      <td>0</td>\n",
       "      <td>0</td>\n",
       "      <td>0</td>\n",
       "      <td>...</td>\n",
       "      <td>0</td>\n",
       "      <td>0</td>\n",
       "      <td>0</td>\n",
       "      <td>0</td>\n",
       "      <td>0</td>\n",
       "      <td>0</td>\n",
       "      <td>0</td>\n",
       "      <td>0</td>\n",
       "      <td>0</td>\n",
       "      <td>0</td>\n",
       "    </tr>\n",
       "    <tr>\n",
       "      <th>7138</th>\n",
       "      <td>1</td>\n",
       "      <td>0</td>\n",
       "      <td>0</td>\n",
       "      <td>0</td>\n",
       "      <td>0</td>\n",
       "      <td>0</td>\n",
       "      <td>0</td>\n",
       "      <td>0</td>\n",
       "      <td>0</td>\n",
       "      <td>0</td>\n",
       "      <td>...</td>\n",
       "      <td>0</td>\n",
       "      <td>0</td>\n",
       "      <td>0</td>\n",
       "      <td>0</td>\n",
       "      <td>0</td>\n",
       "      <td>0</td>\n",
       "      <td>0</td>\n",
       "      <td>0</td>\n",
       "      <td>0</td>\n",
       "      <td>0</td>\n",
       "    </tr>\n",
       "    <tr>\n",
       "      <th>7358</th>\n",
       "      <td>1</td>\n",
       "      <td>0</td>\n",
       "      <td>0</td>\n",
       "      <td>0</td>\n",
       "      <td>0</td>\n",
       "      <td>0</td>\n",
       "      <td>0</td>\n",
       "      <td>0</td>\n",
       "      <td>0</td>\n",
       "      <td>0</td>\n",
       "      <td>...</td>\n",
       "      <td>0</td>\n",
       "      <td>0</td>\n",
       "      <td>0</td>\n",
       "      <td>0</td>\n",
       "      <td>0</td>\n",
       "      <td>0</td>\n",
       "      <td>0</td>\n",
       "      <td>0</td>\n",
       "      <td>0</td>\n",
       "      <td>0</td>\n",
       "    </tr>\n",
       "  </tbody>\n",
       "</table>\n",
       "<p>5 rows × 241 columns</p>\n",
       "</div>"
      ],
      "text/plain": [
       "      1st Block Jayanagar  1st Phase JP Nagar  2nd Phase Judicial Layout  \\\n",
       "210                     1                   0                          0   \n",
       "848                     1                   0                          0   \n",
       "2152                    1                   0                          0   \n",
       "7138                    1                   0                          0   \n",
       "7358                    1                   0                          0   \n",
       "\n",
       "      2nd Stage Nagarbhavi  5th Block Hbr Layout  5th Phase JP Nagar  \\\n",
       "210                      0                     0                   0   \n",
       "848                      0                     0                   0   \n",
       "2152                     0                     0                   0   \n",
       "7138                     0                     0                   0   \n",
       "7358                     0                     0                   0   \n",
       "\n",
       "      6th Phase JP Nagar  7th Phase JP Nagar  8th Phase JP Nagar  \\\n",
       "210                    0                   0                   0   \n",
       "848                    0                   0                   0   \n",
       "2152                   0                   0                   0   \n",
       "7138                   0                   0                   0   \n",
       "7358                   0                   0                   0   \n",
       "\n",
       "      9th Phase JP Nagar  ...  Vishveshwarya Layout  Vishwapriya Layout  \\\n",
       "210                    0  ...                     0                   0   \n",
       "848                    0  ...                     0                   0   \n",
       "2152                   0  ...                     0                   0   \n",
       "7138                   0  ...                     0                   0   \n",
       "7358                   0  ...                     0                   0   \n",
       "\n",
       "      Vittasandra  Whitefield  Yelachenahalli  Yelahanka  Yelahanka New Town  \\\n",
       "210             0           0               0          0                   0   \n",
       "848             0           0               0          0                   0   \n",
       "2152            0           0               0          0                   0   \n",
       "7138            0           0               0          0                   0   \n",
       "7358            0           0               0          0                   0   \n",
       "\n",
       "      Yelenahalli  Yeshwanthpur  other  \n",
       "210             0             0      0  \n",
       "848             0             0      0  \n",
       "2152            0             0      0  \n",
       "7138            0             0      0  \n",
       "7358            0             0      0  \n",
       "\n",
       "[5 rows x 241 columns]"
      ]
     },
     "execution_count": 88,
     "metadata": {},
     "output_type": "execute_result"
    }
   ],
   "source": [
    "dummies  = pd.get_dummies(df9.location)\n",
    "dummies.head()"
   ]
  },
  {
   "cell_type": "code",
   "execution_count": 89,
   "metadata": {},
   "outputs": [
    {
     "data": {
      "text/html": [
       "<div>\n",
       "<style scoped>\n",
       "    .dataframe tbody tr th:only-of-type {\n",
       "        vertical-align: middle;\n",
       "    }\n",
       "\n",
       "    .dataframe tbody tr th {\n",
       "        vertical-align: top;\n",
       "    }\n",
       "\n",
       "    .dataframe thead th {\n",
       "        text-align: right;\n",
       "    }\n",
       "</style>\n",
       "<table border=\"1\" class=\"dataframe\">\n",
       "  <thead>\n",
       "    <tr style=\"text-align: right;\">\n",
       "      <th></th>\n",
       "      <th>location</th>\n",
       "      <th>total_sqft</th>\n",
       "      <th>bath</th>\n",
       "      <th>price</th>\n",
       "      <th>bhk</th>\n",
       "      <th>1st Block Jayanagar</th>\n",
       "      <th>1st Phase JP Nagar</th>\n",
       "      <th>2nd Phase Judicial Layout</th>\n",
       "      <th>2nd Stage Nagarbhavi</th>\n",
       "      <th>5th Block Hbr Layout</th>\n",
       "      <th>...</th>\n",
       "      <th>Vishveshwarya Layout</th>\n",
       "      <th>Vishwapriya Layout</th>\n",
       "      <th>Vittasandra</th>\n",
       "      <th>Whitefield</th>\n",
       "      <th>Yelachenahalli</th>\n",
       "      <th>Yelahanka</th>\n",
       "      <th>Yelahanka New Town</th>\n",
       "      <th>Yelenahalli</th>\n",
       "      <th>Yeshwanthpur</th>\n",
       "      <th>other</th>\n",
       "    </tr>\n",
       "  </thead>\n",
       "  <tbody>\n",
       "    <tr>\n",
       "      <th>210</th>\n",
       "      <td>1st Block Jayanagar</td>\n",
       "      <td>2850.0</td>\n",
       "      <td>4.0</td>\n",
       "      <td>428.00</td>\n",
       "      <td>4</td>\n",
       "      <td>1</td>\n",
       "      <td>0</td>\n",
       "      <td>0</td>\n",
       "      <td>0</td>\n",
       "      <td>0</td>\n",
       "      <td>...</td>\n",
       "      <td>0</td>\n",
       "      <td>0</td>\n",
       "      <td>0</td>\n",
       "      <td>0</td>\n",
       "      <td>0</td>\n",
       "      <td>0</td>\n",
       "      <td>0</td>\n",
       "      <td>0</td>\n",
       "      <td>0</td>\n",
       "      <td>0</td>\n",
       "    </tr>\n",
       "    <tr>\n",
       "      <th>848</th>\n",
       "      <td>1st Block Jayanagar</td>\n",
       "      <td>1630.0</td>\n",
       "      <td>3.0</td>\n",
       "      <td>194.00</td>\n",
       "      <td>3</td>\n",
       "      <td>1</td>\n",
       "      <td>0</td>\n",
       "      <td>0</td>\n",
       "      <td>0</td>\n",
       "      <td>0</td>\n",
       "      <td>...</td>\n",
       "      <td>0</td>\n",
       "      <td>0</td>\n",
       "      <td>0</td>\n",
       "      <td>0</td>\n",
       "      <td>0</td>\n",
       "      <td>0</td>\n",
       "      <td>0</td>\n",
       "      <td>0</td>\n",
       "      <td>0</td>\n",
       "      <td>0</td>\n",
       "    </tr>\n",
       "    <tr>\n",
       "      <th>2152</th>\n",
       "      <td>1st Block Jayanagar</td>\n",
       "      <td>1875.0</td>\n",
       "      <td>2.0</td>\n",
       "      <td>235.00</td>\n",
       "      <td>3</td>\n",
       "      <td>1</td>\n",
       "      <td>0</td>\n",
       "      <td>0</td>\n",
       "      <td>0</td>\n",
       "      <td>0</td>\n",
       "      <td>...</td>\n",
       "      <td>0</td>\n",
       "      <td>0</td>\n",
       "      <td>0</td>\n",
       "      <td>0</td>\n",
       "      <td>0</td>\n",
       "      <td>0</td>\n",
       "      <td>0</td>\n",
       "      <td>0</td>\n",
       "      <td>0</td>\n",
       "      <td>0</td>\n",
       "    </tr>\n",
       "    <tr>\n",
       "      <th>7138</th>\n",
       "      <td>1st Block Jayanagar</td>\n",
       "      <td>1200.0</td>\n",
       "      <td>2.0</td>\n",
       "      <td>130.00</td>\n",
       "      <td>3</td>\n",
       "      <td>1</td>\n",
       "      <td>0</td>\n",
       "      <td>0</td>\n",
       "      <td>0</td>\n",
       "      <td>0</td>\n",
       "      <td>...</td>\n",
       "      <td>0</td>\n",
       "      <td>0</td>\n",
       "      <td>0</td>\n",
       "      <td>0</td>\n",
       "      <td>0</td>\n",
       "      <td>0</td>\n",
       "      <td>0</td>\n",
       "      <td>0</td>\n",
       "      <td>0</td>\n",
       "      <td>0</td>\n",
       "    </tr>\n",
       "    <tr>\n",
       "      <th>7358</th>\n",
       "      <td>1st Block Jayanagar</td>\n",
       "      <td>1235.0</td>\n",
       "      <td>2.0</td>\n",
       "      <td>148.00</td>\n",
       "      <td>2</td>\n",
       "      <td>1</td>\n",
       "      <td>0</td>\n",
       "      <td>0</td>\n",
       "      <td>0</td>\n",
       "      <td>0</td>\n",
       "      <td>...</td>\n",
       "      <td>0</td>\n",
       "      <td>0</td>\n",
       "      <td>0</td>\n",
       "      <td>0</td>\n",
       "      <td>0</td>\n",
       "      <td>0</td>\n",
       "      <td>0</td>\n",
       "      <td>0</td>\n",
       "      <td>0</td>\n",
       "      <td>0</td>\n",
       "    </tr>\n",
       "    <tr>\n",
       "      <th>...</th>\n",
       "      <td>...</td>\n",
       "      <td>...</td>\n",
       "      <td>...</td>\n",
       "      <td>...</td>\n",
       "      <td>...</td>\n",
       "      <td>...</td>\n",
       "      <td>...</td>\n",
       "      <td>...</td>\n",
       "      <td>...</td>\n",
       "      <td>...</td>\n",
       "      <td>...</td>\n",
       "      <td>...</td>\n",
       "      <td>...</td>\n",
       "      <td>...</td>\n",
       "      <td>...</td>\n",
       "      <td>...</td>\n",
       "      <td>...</td>\n",
       "      <td>...</td>\n",
       "      <td>...</td>\n",
       "      <td>...</td>\n",
       "      <td>...</td>\n",
       "    </tr>\n",
       "    <tr>\n",
       "      <th>13285</th>\n",
       "      <td>other</td>\n",
       "      <td>1353.0</td>\n",
       "      <td>2.0</td>\n",
       "      <td>110.00</td>\n",
       "      <td>2</td>\n",
       "      <td>0</td>\n",
       "      <td>0</td>\n",
       "      <td>0</td>\n",
       "      <td>0</td>\n",
       "      <td>0</td>\n",
       "      <td>...</td>\n",
       "      <td>0</td>\n",
       "      <td>0</td>\n",
       "      <td>0</td>\n",
       "      <td>0</td>\n",
       "      <td>0</td>\n",
       "      <td>0</td>\n",
       "      <td>0</td>\n",
       "      <td>0</td>\n",
       "      <td>0</td>\n",
       "      <td>1</td>\n",
       "    </tr>\n",
       "    <tr>\n",
       "      <th>13291</th>\n",
       "      <td>other</td>\n",
       "      <td>812.0</td>\n",
       "      <td>1.0</td>\n",
       "      <td>26.00</td>\n",
       "      <td>1</td>\n",
       "      <td>0</td>\n",
       "      <td>0</td>\n",
       "      <td>0</td>\n",
       "      <td>0</td>\n",
       "      <td>0</td>\n",
       "      <td>...</td>\n",
       "      <td>0</td>\n",
       "      <td>0</td>\n",
       "      <td>0</td>\n",
       "      <td>0</td>\n",
       "      <td>0</td>\n",
       "      <td>0</td>\n",
       "      <td>0</td>\n",
       "      <td>0</td>\n",
       "      <td>0</td>\n",
       "      <td>1</td>\n",
       "    </tr>\n",
       "    <tr>\n",
       "      <th>13292</th>\n",
       "      <td>other</td>\n",
       "      <td>1440.0</td>\n",
       "      <td>2.0</td>\n",
       "      <td>63.93</td>\n",
       "      <td>3</td>\n",
       "      <td>0</td>\n",
       "      <td>0</td>\n",
       "      <td>0</td>\n",
       "      <td>0</td>\n",
       "      <td>0</td>\n",
       "      <td>...</td>\n",
       "      <td>0</td>\n",
       "      <td>0</td>\n",
       "      <td>0</td>\n",
       "      <td>0</td>\n",
       "      <td>0</td>\n",
       "      <td>0</td>\n",
       "      <td>0</td>\n",
       "      <td>0</td>\n",
       "      <td>0</td>\n",
       "      <td>1</td>\n",
       "    </tr>\n",
       "    <tr>\n",
       "      <th>13302</th>\n",
       "      <td>other</td>\n",
       "      <td>1075.0</td>\n",
       "      <td>2.0</td>\n",
       "      <td>48.00</td>\n",
       "      <td>2</td>\n",
       "      <td>0</td>\n",
       "      <td>0</td>\n",
       "      <td>0</td>\n",
       "      <td>0</td>\n",
       "      <td>0</td>\n",
       "      <td>...</td>\n",
       "      <td>0</td>\n",
       "      <td>0</td>\n",
       "      <td>0</td>\n",
       "      <td>0</td>\n",
       "      <td>0</td>\n",
       "      <td>0</td>\n",
       "      <td>0</td>\n",
       "      <td>0</td>\n",
       "      <td>0</td>\n",
       "      <td>1</td>\n",
       "    </tr>\n",
       "    <tr>\n",
       "      <th>13316</th>\n",
       "      <td>other</td>\n",
       "      <td>3600.0</td>\n",
       "      <td>5.0</td>\n",
       "      <td>400.00</td>\n",
       "      <td>4</td>\n",
       "      <td>0</td>\n",
       "      <td>0</td>\n",
       "      <td>0</td>\n",
       "      <td>0</td>\n",
       "      <td>0</td>\n",
       "      <td>...</td>\n",
       "      <td>0</td>\n",
       "      <td>0</td>\n",
       "      <td>0</td>\n",
       "      <td>0</td>\n",
       "      <td>0</td>\n",
       "      <td>0</td>\n",
       "      <td>0</td>\n",
       "      <td>0</td>\n",
       "      <td>0</td>\n",
       "      <td>1</td>\n",
       "    </tr>\n",
       "  </tbody>\n",
       "</table>\n",
       "<p>10238 rows × 246 columns</p>\n",
       "</div>"
      ],
      "text/plain": [
       "                  location  total_sqft  bath   price  bhk  \\\n",
       "210    1st Block Jayanagar      2850.0   4.0  428.00    4   \n",
       "848    1st Block Jayanagar      1630.0   3.0  194.00    3   \n",
       "2152   1st Block Jayanagar      1875.0   2.0  235.00    3   \n",
       "7138   1st Block Jayanagar      1200.0   2.0  130.00    3   \n",
       "7358   1st Block Jayanagar      1235.0   2.0  148.00    2   \n",
       "...                    ...         ...   ...     ...  ...   \n",
       "13285                other      1353.0   2.0  110.00    2   \n",
       "13291                other       812.0   1.0   26.00    1   \n",
       "13292                other      1440.0   2.0   63.93    3   \n",
       "13302                other      1075.0   2.0   48.00    2   \n",
       "13316                other      3600.0   5.0  400.00    4   \n",
       "\n",
       "       1st Block Jayanagar  1st Phase JP Nagar  2nd Phase Judicial Layout  \\\n",
       "210                      1                   0                          0   \n",
       "848                      1                   0                          0   \n",
       "2152                     1                   0                          0   \n",
       "7138                     1                   0                          0   \n",
       "7358                     1                   0                          0   \n",
       "...                    ...                 ...                        ...   \n",
       "13285                    0                   0                          0   \n",
       "13291                    0                   0                          0   \n",
       "13292                    0                   0                          0   \n",
       "13302                    0                   0                          0   \n",
       "13316                    0                   0                          0   \n",
       "\n",
       "       2nd Stage Nagarbhavi  5th Block Hbr Layout  ...  Vishveshwarya Layout  \\\n",
       "210                       0                     0  ...                     0   \n",
       "848                       0                     0  ...                     0   \n",
       "2152                      0                     0  ...                     0   \n",
       "7138                      0                     0  ...                     0   \n",
       "7358                      0                     0  ...                     0   \n",
       "...                     ...                   ...  ...                   ...   \n",
       "13285                     0                     0  ...                     0   \n",
       "13291                     0                     0  ...                     0   \n",
       "13292                     0                     0  ...                     0   \n",
       "13302                     0                     0  ...                     0   \n",
       "13316                     0                     0  ...                     0   \n",
       "\n",
       "       Vishwapriya Layout  Vittasandra  Whitefield  Yelachenahalli  Yelahanka  \\\n",
       "210                     0            0           0               0          0   \n",
       "848                     0            0           0               0          0   \n",
       "2152                    0            0           0               0          0   \n",
       "7138                    0            0           0               0          0   \n",
       "7358                    0            0           0               0          0   \n",
       "...                   ...          ...         ...             ...        ...   \n",
       "13285                   0            0           0               0          0   \n",
       "13291                   0            0           0               0          0   \n",
       "13292                   0            0           0               0          0   \n",
       "13302                   0            0           0               0          0   \n",
       "13316                   0            0           0               0          0   \n",
       "\n",
       "       Yelahanka New Town  Yelenahalli  Yeshwanthpur  other  \n",
       "210                     0            0             0      0  \n",
       "848                     0            0             0      0  \n",
       "2152                    0            0             0      0  \n",
       "7138                    0            0             0      0  \n",
       "7358                    0            0             0      0  \n",
       "...                   ...          ...           ...    ...  \n",
       "13285                   0            0             0      1  \n",
       "13291                   0            0             0      1  \n",
       "13292                   0            0             0      1  \n",
       "13302                   0            0             0      1  \n",
       "13316                   0            0             0      1  \n",
       "\n",
       "[10238 rows x 246 columns]"
      ]
     },
     "execution_count": 89,
     "metadata": {},
     "output_type": "execute_result"
    }
   ],
   "source": [
    "df_dummies = pd.concat([df9,dummies],axis=\"columns\")\n",
    "df_dummies"
   ]
  },
  {
   "cell_type": "code",
   "execution_count": 90,
   "metadata": {},
   "outputs": [
    {
     "data": {
      "text/plain": [
       "(10238, 246)"
      ]
     },
     "execution_count": 90,
     "metadata": {},
     "output_type": "execute_result"
    }
   ],
   "source": [
    "df_dummies.shape"
   ]
  },
  {
   "cell_type": "code",
   "execution_count": 91,
   "metadata": {},
   "outputs": [
    {
     "data": {
      "text/html": [
       "<div>\n",
       "<style scoped>\n",
       "    .dataframe tbody tr th:only-of-type {\n",
       "        vertical-align: middle;\n",
       "    }\n",
       "\n",
       "    .dataframe tbody tr th {\n",
       "        vertical-align: top;\n",
       "    }\n",
       "\n",
       "    .dataframe thead th {\n",
       "        text-align: right;\n",
       "    }\n",
       "</style>\n",
       "<table border=\"1\" class=\"dataframe\">\n",
       "  <thead>\n",
       "    <tr style=\"text-align: right;\">\n",
       "      <th></th>\n",
       "      <th>total_sqft</th>\n",
       "      <th>bath</th>\n",
       "      <th>price</th>\n",
       "      <th>bhk</th>\n",
       "      <th>1st Block Jayanagar</th>\n",
       "      <th>1st Phase JP Nagar</th>\n",
       "      <th>2nd Phase Judicial Layout</th>\n",
       "      <th>2nd Stage Nagarbhavi</th>\n",
       "      <th>5th Block Hbr Layout</th>\n",
       "      <th>5th Phase JP Nagar</th>\n",
       "      <th>...</th>\n",
       "      <th>Vijayanagar</th>\n",
       "      <th>Vishveshwarya Layout</th>\n",
       "      <th>Vishwapriya Layout</th>\n",
       "      <th>Vittasandra</th>\n",
       "      <th>Whitefield</th>\n",
       "      <th>Yelachenahalli</th>\n",
       "      <th>Yelahanka</th>\n",
       "      <th>Yelahanka New Town</th>\n",
       "      <th>Yelenahalli</th>\n",
       "      <th>Yeshwanthpur</th>\n",
       "    </tr>\n",
       "  </thead>\n",
       "  <tbody>\n",
       "    <tr>\n",
       "      <th>210</th>\n",
       "      <td>2850.0</td>\n",
       "      <td>4.0</td>\n",
       "      <td>428.0</td>\n",
       "      <td>4</td>\n",
       "      <td>1</td>\n",
       "      <td>0</td>\n",
       "      <td>0</td>\n",
       "      <td>0</td>\n",
       "      <td>0</td>\n",
       "      <td>0</td>\n",
       "      <td>...</td>\n",
       "      <td>0</td>\n",
       "      <td>0</td>\n",
       "      <td>0</td>\n",
       "      <td>0</td>\n",
       "      <td>0</td>\n",
       "      <td>0</td>\n",
       "      <td>0</td>\n",
       "      <td>0</td>\n",
       "      <td>0</td>\n",
       "      <td>0</td>\n",
       "    </tr>\n",
       "    <tr>\n",
       "      <th>848</th>\n",
       "      <td>1630.0</td>\n",
       "      <td>3.0</td>\n",
       "      <td>194.0</td>\n",
       "      <td>3</td>\n",
       "      <td>1</td>\n",
       "      <td>0</td>\n",
       "      <td>0</td>\n",
       "      <td>0</td>\n",
       "      <td>0</td>\n",
       "      <td>0</td>\n",
       "      <td>...</td>\n",
       "      <td>0</td>\n",
       "      <td>0</td>\n",
       "      <td>0</td>\n",
       "      <td>0</td>\n",
       "      <td>0</td>\n",
       "      <td>0</td>\n",
       "      <td>0</td>\n",
       "      <td>0</td>\n",
       "      <td>0</td>\n",
       "      <td>0</td>\n",
       "    </tr>\n",
       "    <tr>\n",
       "      <th>2152</th>\n",
       "      <td>1875.0</td>\n",
       "      <td>2.0</td>\n",
       "      <td>235.0</td>\n",
       "      <td>3</td>\n",
       "      <td>1</td>\n",
       "      <td>0</td>\n",
       "      <td>0</td>\n",
       "      <td>0</td>\n",
       "      <td>0</td>\n",
       "      <td>0</td>\n",
       "      <td>...</td>\n",
       "      <td>0</td>\n",
       "      <td>0</td>\n",
       "      <td>0</td>\n",
       "      <td>0</td>\n",
       "      <td>0</td>\n",
       "      <td>0</td>\n",
       "      <td>0</td>\n",
       "      <td>0</td>\n",
       "      <td>0</td>\n",
       "      <td>0</td>\n",
       "    </tr>\n",
       "    <tr>\n",
       "      <th>7138</th>\n",
       "      <td>1200.0</td>\n",
       "      <td>2.0</td>\n",
       "      <td>130.0</td>\n",
       "      <td>3</td>\n",
       "      <td>1</td>\n",
       "      <td>0</td>\n",
       "      <td>0</td>\n",
       "      <td>0</td>\n",
       "      <td>0</td>\n",
       "      <td>0</td>\n",
       "      <td>...</td>\n",
       "      <td>0</td>\n",
       "      <td>0</td>\n",
       "      <td>0</td>\n",
       "      <td>0</td>\n",
       "      <td>0</td>\n",
       "      <td>0</td>\n",
       "      <td>0</td>\n",
       "      <td>0</td>\n",
       "      <td>0</td>\n",
       "      <td>0</td>\n",
       "    </tr>\n",
       "    <tr>\n",
       "      <th>7358</th>\n",
       "      <td>1235.0</td>\n",
       "      <td>2.0</td>\n",
       "      <td>148.0</td>\n",
       "      <td>2</td>\n",
       "      <td>1</td>\n",
       "      <td>0</td>\n",
       "      <td>0</td>\n",
       "      <td>0</td>\n",
       "      <td>0</td>\n",
       "      <td>0</td>\n",
       "      <td>...</td>\n",
       "      <td>0</td>\n",
       "      <td>0</td>\n",
       "      <td>0</td>\n",
       "      <td>0</td>\n",
       "      <td>0</td>\n",
       "      <td>0</td>\n",
       "      <td>0</td>\n",
       "      <td>0</td>\n",
       "      <td>0</td>\n",
       "      <td>0</td>\n",
       "    </tr>\n",
       "  </tbody>\n",
       "</table>\n",
       "<p>5 rows × 244 columns</p>\n",
       "</div>"
      ],
      "text/plain": [
       "      total_sqft  bath  price  bhk  1st Block Jayanagar  1st Phase JP Nagar  \\\n",
       "210       2850.0   4.0  428.0    4                    1                   0   \n",
       "848       1630.0   3.0  194.0    3                    1                   0   \n",
       "2152      1875.0   2.0  235.0    3                    1                   0   \n",
       "7138      1200.0   2.0  130.0    3                    1                   0   \n",
       "7358      1235.0   2.0  148.0    2                    1                   0   \n",
       "\n",
       "      2nd Phase Judicial Layout  2nd Stage Nagarbhavi  5th Block Hbr Layout  \\\n",
       "210                           0                     0                     0   \n",
       "848                           0                     0                     0   \n",
       "2152                          0                     0                     0   \n",
       "7138                          0                     0                     0   \n",
       "7358                          0                     0                     0   \n",
       "\n",
       "      5th Phase JP Nagar  ...  Vijayanagar  Vishveshwarya Layout  \\\n",
       "210                    0  ...            0                     0   \n",
       "848                    0  ...            0                     0   \n",
       "2152                   0  ...            0                     0   \n",
       "7138                   0  ...            0                     0   \n",
       "7358                   0  ...            0                     0   \n",
       "\n",
       "      Vishwapriya Layout  Vittasandra  Whitefield  Yelachenahalli  Yelahanka  \\\n",
       "210                    0            0           0               0          0   \n",
       "848                    0            0           0               0          0   \n",
       "2152                   0            0           0               0          0   \n",
       "7138                   0            0           0               0          0   \n",
       "7358                   0            0           0               0          0   \n",
       "\n",
       "      Yelahanka New Town  Yelenahalli  Yeshwanthpur  \n",
       "210                    0            0             0  \n",
       "848                    0            0             0  \n",
       "2152                   0            0             0  \n",
       "7138                   0            0             0  \n",
       "7358                   0            0             0  \n",
       "\n",
       "[5 rows x 244 columns]"
      ]
     },
     "execution_count": 91,
     "metadata": {},
     "output_type": "execute_result"
    }
   ],
   "source": [
    "df10 = df_dummies.drop([\"location\",\"other\"],axis=\"columns\")\n",
    "df10.head(5)"
   ]
  },
  {
   "cell_type": "code",
   "execution_count": 93,
   "metadata": {},
   "outputs": [
    {
     "data": {
      "text/plain": [
       "(10238, 244)"
      ]
     },
     "execution_count": 93,
     "metadata": {},
     "output_type": "execute_result"
    }
   ],
   "source": [
    "df10.shape"
   ]
  },
  {
   "cell_type": "code",
   "execution_count": 94,
   "metadata": {},
   "outputs": [],
   "source": [
    "df11 = df10.drop(\"price\",axis=\"columns\")\n",
    "X = df11"
   ]
  },
  {
   "cell_type": "code",
   "execution_count": 95,
   "metadata": {},
   "outputs": [
    {
     "data": {
      "text/plain": [
       "210      428.00\n",
       "848      194.00\n",
       "2152     235.00\n",
       "7138     130.00\n",
       "7358     148.00\n",
       "          ...  \n",
       "13285    110.00\n",
       "13291     26.00\n",
       "13292     63.93\n",
       "13302     48.00\n",
       "13316    400.00\n",
       "Name: price, Length: 10238, dtype: float64"
      ]
     },
     "execution_count": 95,
     "metadata": {},
     "output_type": "execute_result"
    }
   ],
   "source": [
    "y = df10.price\n",
    "y"
   ]
  },
  {
   "cell_type": "code",
   "execution_count": 96,
   "metadata": {},
   "outputs": [],
   "source": [
    "from sklearn.model_selection import train_test_split\n",
    "X_train,X_test,y_train,y_test = train_test_split(X,y,test_size=0.2)"
   ]
  },
  {
   "cell_type": "code",
   "execution_count": 97,
   "metadata": {},
   "outputs": [],
   "source": [
    "from sklearn.linear_model import LinearRegression\n",
    "lr = LinearRegression()"
   ]
  },
  {
   "cell_type": "code",
   "execution_count": 98,
   "metadata": {},
   "outputs": [
    {
     "data": {
      "text/plain": [
       "0.83023681462482"
      ]
     },
     "execution_count": 98,
     "metadata": {},
     "output_type": "execute_result"
    }
   ],
   "source": [
    "lr.fit(X_train,y_train)\n",
    "lr.score(X_train,y_train)"
   ]
  },
  {
   "cell_type": "code",
   "execution_count": 107,
   "metadata": {},
   "outputs": [
    {
     "data": {
      "text/plain": [
       "0.801277987443401"
      ]
     },
     "execution_count": 107,
     "metadata": {},
     "output_type": "execute_result"
    }
   ],
   "source": [
    "from sklearn.model_selection import ShuffleSplit\n",
    "from sklearn.model_selection import cross_val_score\n",
    "cv = ShuffleSplit(n_splits=22,random_state=0,test_size=0.2)\n",
    "cross_val_score(LinearRegression(),X,y,cv=cv).mean()\n"
   ]
  },
  {
   "cell_type": "code",
   "execution_count": 116,
   "metadata": {},
   "outputs": [],
   "source": [
    "def predict_price(location,total_sqft,bath,bhk):\n",
    "    loc_index = np.where(X.columns == location)[0][0]\n",
    "    \n",
    "    x = np.zeros(len(X.columns))\n",
    "    x[0] = total_sqft\n",
    "    x[1] = bath\n",
    "    x[2] = bhk\n",
    "    if loc_index >= 0:\n",
    "        x[loc_index] = 1\n",
    "    return lr.predict([x])[0]"
   ]
  },
  {
   "cell_type": "code",
   "execution_count": 127,
   "metadata": {},
   "outputs": [
    {
     "data": {
      "text/plain": [
       "182.2164640989152"
      ]
     },
     "execution_count": 127,
     "metadata": {},
     "output_type": "execute_result"
    }
   ],
   "source": [
    "predict_price(\"Indira Nagar\", 1000, 6, 4)"
   ]
  },
  {
   "cell_type": "code",
   "execution_count": 88,
   "metadata": {},
   "outputs": [
    {
     "data": {
      "text/plain": [
       "array(['1st Block Jayanagar', '1st Phase JP Nagar',\n",
       "       '2nd Phase Judicial Layout', '2nd Stage Nagarbhavi',\n",
       "       '5th Block Hbr Layout', '5th Phase JP Nagar', '6th Phase JP Nagar',\n",
       "       '7th Phase JP Nagar', '8th Phase JP Nagar', '9th Phase JP Nagar',\n",
       "       'AECS Layout', 'Abbigere', 'Akshaya Nagar', 'Ambalipura',\n",
       "       'Ambedkar Nagar', 'Amruthahalli', 'Anandapura', 'Ananth Nagar',\n",
       "       'Anekal', 'Anjanapura', 'Ardendale', 'Arekere', 'Attibele',\n",
       "       'BEML Layout', 'BTM 2nd Stage', 'BTM Layout', 'Babusapalaya',\n",
       "       'Badavala Nagar', 'Balagere', 'Banashankari',\n",
       "       'Banashankari Stage II', 'Banashankari Stage III',\n",
       "       'Banashankari Stage V', 'Banashankari Stage VI', 'Banaswadi',\n",
       "       'Banjara Layout', 'Bannerghatta', 'Bannerghatta Road',\n",
       "       'Basavangudi', 'Basaveshwara Nagar', 'Battarahalli', 'Begur',\n",
       "       'Begur Road', 'Bellandur', 'Benson Town', 'Bharathi Nagar',\n",
       "       'Bhoganhalli', 'Billekahalli', 'Binny Pete', 'Bisuvanahalli',\n",
       "       'Bommanahalli', 'Bommasandra', 'Bommasandra Industrial Area',\n",
       "       'Bommenahalli', 'Brookefield', 'Budigere', 'CV Raman Nagar',\n",
       "       'Chamrajpet', 'Chandapura', 'Channasandra', 'Chikka Tirupathi',\n",
       "       'Chikkabanavar', 'Chikkalasandra', 'Choodasandra', 'Cooke Town',\n",
       "       'Cox Town', 'Cunningham Road', 'Dasanapura', 'Dasarahalli',\n",
       "       'Devanahalli', 'Devarachikkanahalli', 'Dodda Nekkundi',\n",
       "       'Doddaballapur', 'Doddakallasandra', 'Doddathoguru', 'Domlur',\n",
       "       'Dommasandra', 'EPIP Zone', 'Electronic City',\n",
       "       'Electronic City Phase II', 'Electronics City Phase 1',\n",
       "       'Frazer Town', 'GM Palaya', 'Garudachar Palya', 'Giri Nagar',\n",
       "       'Gollarapalya Hosahalli', 'Gottigere', 'Green Glen Layout',\n",
       "       'Gubbalala', 'Gunjur', 'HAL 2nd Stage', 'HBR Layout',\n",
       "       'HRBR Layout', 'HSR Layout', 'Haralur Road', 'Harlur', 'Hebbal',\n",
       "       'Hebbal Kempapura', 'Hegde Nagar', 'Hennur', 'Hennur Road',\n",
       "       'Hoodi', 'Horamavu Agara', 'Horamavu Banaswadi', 'Hormavu',\n",
       "       'Hosa Road', 'Hosakerehalli', 'Hoskote', 'Hosur Road', 'Hulimavu',\n",
       "       'ISRO Layout', 'ITPL', 'Iblur Village', 'Indira Nagar', 'JP Nagar',\n",
       "       'Jakkur', 'Jalahalli', 'Jalahalli East', 'Jigani',\n",
       "       'Judicial Layout', 'KR Puram', 'Kadubeesanahalli', 'Kadugodi',\n",
       "       'Kaggadasapura', 'Kaggalipura', 'Kaikondrahalli',\n",
       "       'Kalena Agrahara', 'Kalyan nagar', 'Kambipura', 'Kammanahalli',\n",
       "       'Kammasandra', 'Kanakapura', 'Kanakpura Road', 'Kannamangala',\n",
       "       'Karuna Nagar', 'Kasavanhalli', 'Kasturi Nagar', 'Kathriguppe',\n",
       "       'Kaval Byrasandra', 'Kenchenahalli', 'Kengeri',\n",
       "       'Kengeri Satellite Town', 'Kereguddadahalli', 'Kodichikkanahalli',\n",
       "       'Kodigehaali', 'Kodigehalli', 'Kodihalli', 'Kogilu', 'Konanakunte',\n",
       "       'Koramangala', 'Kothannur', 'Kothanur', 'Kudlu', 'Kudlu Gate',\n",
       "       'Kumaraswami Layout', 'Kundalahalli', 'LB Shastri Nagar',\n",
       "       'Laggere', 'Lakshminarayana Pura', 'Lingadheeranahalli',\n",
       "       'Magadi Road', 'Mahadevpura', 'Mahalakshmi Layout', 'Mallasandra',\n",
       "       'Malleshpalya', 'Malleshwaram', 'Marathahalli', 'Margondanahalli',\n",
       "       'Marsur', 'Mico Layout', 'Munnekollal', 'Murugeshpalya',\n",
       "       'Mysore Road', 'NGR Layout', 'NRI Layout', 'Nagarbhavi',\n",
       "       'Nagasandra', 'Nagavara', 'Nagavarapalya', 'Narayanapura',\n",
       "       'Neeladri Nagar', 'Nehru Nagar', 'OMBR Layout', 'Old Airport Road',\n",
       "       'Old Madras Road', 'Padmanabhanagar', 'Pai Layout', 'Panathur',\n",
       "       'Parappana Agrahara', 'Pattandur Agrahara', 'Poorna Pragna Layout',\n",
       "       'Prithvi Layout', 'R.T. Nagar', 'Rachenahalli',\n",
       "       'Raja Rajeshwari Nagar', 'Rajaji Nagar', 'Rajiv Nagar',\n",
       "       'Ramagondanahalli', 'Ramamurthy Nagar', 'Rayasandra',\n",
       "       'Sahakara Nagar', 'Sanjay nagar', 'Sarakki Nagar', 'Sarjapur',\n",
       "       'Sarjapur  Road', 'Sarjapura - Attibele Road',\n",
       "       'Sector 2 HSR Layout', 'Sector 7 HSR Layout', 'Seegehalli',\n",
       "       'Shampura', 'Shivaji Nagar', 'Singasandra', 'Somasundara Palya',\n",
       "       'Sompura', 'Sonnenahalli', 'Subramanyapura', 'Sultan Palaya',\n",
       "       'TC Palaya', 'Talaghattapura', 'Thanisandra', 'Thigalarapalya',\n",
       "       'Thubarahalli', 'Tindlu', 'Tumkur Road', 'Ulsoor', 'Uttarahalli',\n",
       "       'Varthur', 'Varthur Road', 'Vasanthapura', 'Vidyaranyapura',\n",
       "       'Vijayanagar', 'Vishveshwarya Layout', 'Vishwapriya Layout',\n",
       "       'Vittasandra', 'Whitefield', 'Yelachenahalli', 'Yelahanka',\n",
       "       'Yelahanka New Town', 'Yelenahalli', 'Yeshwanthpur', 'other'],\n",
       "      dtype=object)"
      ]
     },
     "execution_count": 88,
     "metadata": {},
     "output_type": "execute_result"
    }
   ],
   "source": [
    "df7[\"location\"].unique()"
   ]
  },
  {
   "cell_type": "code",
   "execution_count": 128,
   "metadata": {},
   "outputs": [],
   "source": [
    "import pickle\n",
    "with open(\"c:\\\\github\\\\banglore_house_model.pickle\",\"wb\") as f:\n",
    "    pickle.dump(lr,f)"
   ]
  },
  {
   "cell_type": "code",
   "execution_count": 137,
   "metadata": {},
   "outputs": [],
   "source": [
    "import json\n",
    "columns = {\"data_columns\" \n",
    "          : [col.lower() for  col in X.columns]}\n",
    "with open(\"c:\\\\github\\\\columns.json\", \"w\") as f:\n",
    "    f.write(json.dumps(columns))\n"
   ]
  },
  {
   "cell_type": "code",
   "execution_count": null,
   "metadata": {},
   "outputs": [],
   "source": []
  },
  {
   "cell_type": "code",
   "execution_count": null,
   "metadata": {},
   "outputs": [],
   "source": []
  }
 ],
 "metadata": {
  "kernelspec": {
   "display_name": "Python 3",
   "language": "python",
   "name": "python3"
  },
  "language_info": {
   "codemirror_mode": {
    "name": "ipython",
    "version": 3
   },
   "file_extension": ".py",
   "mimetype": "text/x-python",
   "name": "python",
   "nbconvert_exporter": "python",
   "pygments_lexer": "ipython3",
   "version": "3.8.5"
  }
 },
 "nbformat": 4,
 "nbformat_minor": 4
}
